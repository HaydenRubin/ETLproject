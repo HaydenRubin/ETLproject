{
 "cells": [
  {
   "cell_type": "code",
   "execution_count": 1,
   "metadata": {},
   "outputs": [],
   "source": [
    "import pandas as pd\n",
    "df = pd.read_csv('https://query.data.world/s/soutlwpun7id3xp4nlew5miedfteuc')"
   ]
  },
  {
   "cell_type": "code",
   "execution_count": 2,
   "metadata": {},
   "outputs": [
    {
     "data": {
      "text/plain": [
       "Index(['show/id', 'show/cache_time', 'show/canonical_name', 'show/clips_count',\n",
       "       'show/description', 'show/episodes_count', 'show/feature_films_count',\n",
       "       'show/film_clips_count', 'show/genre', 'show/genres',\n",
       "       ...\n",
       "       'show/show_rollups/showtime/html5_games_count',\n",
       "       'show/show_rollups/showtime/html5_feature_films_count',\n",
       "       'show/show_rollups/showtime/html5_film_clips_count',\n",
       "       'show/show_rollups/showtime/html5_film_trailers_count',\n",
       "       'show/show_rollups/showtime/html5_videos_count',\n",
       "       'show/show_rollups/showtime/non_rating_videos_count',\n",
       "       'show/show_rollups/showtime/highest_rating', 'show/annotations/0',\n",
       "       'show/annotations/1', 'Unnamed: 181'],\n",
       "      dtype='object', length=182)"
      ]
     },
     "execution_count": 2,
     "metadata": {},
     "output_type": "execute_result"
    }
   ],
   "source": [
    "df.columns"
   ]
  },
  {
   "cell_type": "code",
   "execution_count": 4,
   "metadata": {},
   "outputs": [
    {
     "data": {
      "text/plain": [
       "0                             Family Guy\n",
       "1                             South Park\n",
       "2                          American Dad!\n",
       "3      Law & Order: Special Victims Unit\n",
       "4                       Naruto Shippuden\n",
       "                     ...                \n",
       "995                        East Los High\n",
       "996                        Sesame Street\n",
       "997                               Casual\n",
       "998                         Chicago P.D.\n",
       "999               Ready, Steady, Wiggle!\n",
       "Name: show/name, Length: 1000, dtype: object"
      ]
     },
     "execution_count": 4,
     "metadata": {},
     "output_type": "execute_result"
    }
   ],
   "source": [
    "df['show/name']"
   ]
  },
  {
   "cell_type": "code",
   "execution_count": 7,
   "metadata": {},
   "outputs": [],
   "source": [
    "#df.loc[df['show/name']]"
   ]
  }
 ],
 "metadata": {
  "kernelspec": {
   "display_name": "Python 3",
   "language": "python",
   "name": "python3"
  },
  "language_info": {
   "codemirror_mode": {
    "name": "ipython",
    "version": 3
   },
   "file_extension": ".py",
   "mimetype": "text/x-python",
   "name": "python",
   "nbconvert_exporter": "python",
   "pygments_lexer": "ipython3",
   "version": "3.6.10"
  }
 },
 "nbformat": 4,
 "nbformat_minor": 4
}
