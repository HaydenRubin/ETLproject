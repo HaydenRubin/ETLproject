{
 "cells": [
  {
   "cell_type": "code",
   "execution_count": 1,
   "metadata": {},
   "outputs": [],
   "source": [
    "from splinter import Browser\n",
    "from bs4 import BeautifulSoup"
   ]
  },
  {
   "cell_type": "markdown",
   "metadata": {},
   "source": [
    "# Mac Users"
   ]
  },
  {
   "cell_type": "code",
   "execution_count": 2,
   "metadata": {},
   "outputs": [],
   "source": [
    "# # https://splinter.readthedocs.io/en/latest/drivers/chrome.html\n",
    "# !which chromedriver"
   ]
  },
  {
   "cell_type": "code",
   "execution_count": 3,
   "metadata": {},
   "outputs": [],
   "source": [
    "# /usr/local/bin/chromedriver  = output. "
   ]
  },
  {
   "cell_type": "code",
   "execution_count": 4,
   "metadata": {},
   "outputs": [],
   "source": [
    "executable_path = {'executable_path': '/usr/local/bin/chromedriver'}\n",
    "browser = Browser('chrome', **executable_path, headless=False)"
   ]
  },
  {
   "cell_type": "markdown",
   "metadata": {},
   "source": [
    "# Windows"
   ]
  },
  {
   "cell_type": "code",
   "execution_count": 5,
   "metadata": {
    "scrolled": true
   },
   "outputs": [],
   "source": [
    "# executable_path = {'executable_path': 'chromedriver.exe'}\n",
    "# browser = Browser('chrome', **executable_path, headless=False)"
   ]
  },
  {
   "cell_type": "code",
   "execution_count": 6,
   "metadata": {},
   "outputs": [],
   "source": [
    "url = 'https://www.imdb.com/search/title/?companies=co0218858'\n",
    "browser.visit(url)"
   ]
  },
  {
   "cell_type": "code",
   "execution_count": 7,
   "metadata": {},
   "outputs": [
    {
     "name": "stderr",
     "output_type": "stream",
     "text": [
      "/Users/haydenrubin/opt/anaconda3/envs/PythonData/lib/python3.6/site-packages/splinter/driver/webdriver/__init__.py:493: FutureWarning: browser.find_link_by_partial_text is deprecated. Use browser.links.find_by_partial_text instead.\n",
      "  FutureWarning,\n"
     ]
    },
    {
     "name": "stdout",
     "output_type": "stream",
     "text": [
      "Scraping Complete\n",
      "Scraping Complete\n",
      "Scraping Complete\n",
      "Scraping Complete\n",
      "Scraping Complete\n",
      "Scraping Complete\n",
      "Scraping Complete\n",
      "Scraping Complete\n",
      "Scraping Complete\n",
      "Scraping Complete\n",
      "Scraping Complete\n",
      "Scraping Complete\n",
      "Scraping Complete\n"
     ]
    }
   ],
   "source": [
    "movie_dict = {}\n",
    "for x in range(1, 50):\n",
    "\n",
    "    html = browser.html\n",
    "    soup = BeautifulSoup(html, 'html.parser')\n",
    "\n",
    "    articles = soup.find_all('div', class_='lister-item-content')\n",
    " \n",
    "    \n",
    "    for article in articles:\n",
    "        \n",
    "        # Use Beautiful Soup's find() method to navigate and retrieve attributes\n",
    "        h3 = article.find('h3')\n",
    "        title = h3.find('a').text\n",
    "        if \"title\" in movie_dict:\n",
    "            movie_dict[\"title\"].append(title)\n",
    "        else:\n",
    "            movie_dict[\"title\"] = [title]\n",
    "        \n",
    "        try:\n",
    "            rating_bar = article.find('div', class_='ratings-bar')\n",
    "            rating = rating_bar.find('div', class_='inline-block ratings-imdb-rating')['data-value']\n",
    "            if \"rating\" in movie_dict:\n",
    "                movie_dict[\"rating\"].append(rating)\n",
    "            else:\n",
    "                movie_dict[\"rating\"] = [rating]\n",
    "            \n",
    "        except:\n",
    "            movie_dict[\"rating\"].append(\"NULL\")\n",
    "        \n",
    "            \n",
    "        \n",
    "        \n",
    "    try:\n",
    "        browser.click_link_by_partial_text('Next')\n",
    "          \n",
    "    except:\n",
    "        print(\"Scraping Complete\")"
   ]
  },
  {
   "cell_type": "code",
   "execution_count": 8,
   "metadata": {},
   "outputs": [
    {
     "name": "stdout",
     "output_type": "stream",
     "text": [
      "{'title': ['Community', \"The Handmaid's Tale\", 'Palm Springs', 'Line of Duty', 'The Binge', 'Little Fires Everywhere', 'Normal People', 'The Great', 'Harlots', 'Portrait of a Lady on Fire', 'Rocketman', 'Mrs. America', 'Devs', 'The Orville', 'The Golden Girls', 'Letterkenny', 'Veronica Mars', 'Castle Rock', 'Ramy', 'I Still Believe', 'The Act', 'The Musketeers', 'Into the Dark', 'High Fidelity', 'King of the Hill', 'Future Man', '11.22.63', 'Runaways', 'Love, Victor', 'The Mindy Project', 'Cardinal', 'Find Me in Paris', 'Das Boot', 'Fantastic Four', 'Terminator 3: Rise of the Machines', 'Pokémon', 'PEN15', 'Dollface', 'Solar Opposites', 'Four Weddings and a Funeral', 'Harrow', 'Kingpin', 'Looking for Alaska', 'Waiting...', 'Brassic', 'UnREAL', 'UglyDolls', 'Catch-22', 'Reprisal', 'Corpse Bride', 'Wounds', 'The Looming Tower', 'Detroit', 'Shrill', 'Little Monsters', 'Wu-Tang: An American Saga', 'Light as a Feather', 'Casual', 'Kaguya-sama: Love is War', 'Nine Perfect Strangers', 'The Spy Next Door', 'The Path', 'Crossing Swords', 'Woke', 'Helstrom', 'Chance', 'The Devil in the White City', 'Monsterland', 'The First', 'Run', 'This Way Up', 'Difficult People', 'The Bisexual', 'The Way Home', 'Famous in Love', 'Deutschland 86', 'Undisputed', 'Kingdom', \"Dr. Horrible's Sing-Along Blog\", 'In Extremis', 'Bad Hair', 'Hard Sun', 'Sailor Moon', 'GameFace', 'Maxxx', 'Shut Eye', 'Alone Together', 'Deadbeat', 'Chivalry of a Failed Knight', 'National Treasure', 'Light Sleeper', 'Freakish', 'Sonic Boom', 'The Hotwives of Orlando', 'The Booth at the End', 'Joshy', 'The Wrong Mans', 'Animaniacs', 'Minding the Gap', 'Butterfly', 'National Treasure: Kiri', 'Dimension 404', 'Little Bitches', 'Citizen Jane', 'Less Than Zero', 'Fair Haven', 'Books of Blood', 'Zomboat!', 'Discreet', 'RocketJump: The Show', 'The LXD: The Legion of Extraordinary Dancers', 'Dawn', 'The Millennium Bug', 'The Weekly', 'Last Will', 'Battleground', 'South Beach', 'Mexican Gothic', 'The 60 Yard Line', 'Ghost Image', 'Beyond the Grave', 'Search and Destroy', 'The Rizzle', 'Lippy', 'We Will Rock You', 'This Is Meg', 'Defining Moments with OZY', 'After Parkland', ' L.A. Heat', ' L.A. Heat', ' L.A. Heat', ' L.A. Heat', ' L.A. Heat', ' L.A. Heat', ' L.A. Heat', ' Malcolm in the Middle', ' My Little Pony: Friendship Is Magic', ' My Little Pony: Friendship Is Magic', ' My Little Pony: Friendship Is Magic', ' My Little Pony: Friendship Is Magic', ' My Little Pony: Friendship Is Magic', ' My Little Pony: Friendship Is Magic', ' My Little Pony: Friendship Is Magic', ' My Little Pony: Friendship Is Magic', ' My Little Pony: Friendship Is Magic', ' My Little Pony: Friendship Is Magic', ' My Little Pony: Friendship Is Magic', ' Shrill', ' Shrill', ' Shrill', ' Shrill', ' Shrill', ' Shrill', ' Shrill', ' Shrill', ' Little Fires Everywhere', ' Little Fires Everywhere', ' Little Fires Everywhere', ' Little Fires Everywhere', ' Little Fires Everywhere', ' Little Fires Everywhere', ' Little Fires Everywhere', ' Little Fires Everywhere', ' ET Canada Live', ' The Orville', ' Nine Perfect Strangers', ' Into the Dark', ' Into the Dark', ' Into the Dark', ' Endlings', ' Endlings', ' Endlings', ' Endlings', ' Endlings', ' Endlings', ' Endlings', ' Endlings', ' Endlings', ' Endlings', ' Endlings', ' Endlings', ' Monsterland', ' Monsterland', ' Monsterland', ' Monsterland', ' Into the Dark', ' Into the Dark', ' Tender Is the Night', ' Into the Dark', ' Into the Dark', ' Into the Dark', ' Into the Dark', ' Into the Dark', ' Jamie: Keep Cooking and Carry On', ' SportsCenter', ' 2020 NFL Draft', ' 2020 NFL Draft', ' SportsCenter', ' SportsCenter', ' NFL Live', ' NFL Live', ' NFL Live', ' NFL Live', ' SportsCenter', ' NFL Live', ' NFL Live', ' NFL Live', ' SportsCenter', ' SportsCenter', ' SportsCenter', ' Dopesick', ' Dopesick', ' Dopesick', ' Dopesick', ' Dopesick', ' Dopesick', ' Dopesick', ' Dopesick', ' Nine Perfect Strangers', ' Nine Perfect Strangers', ' Nine Perfect Strangers', ' Nine Perfect Strangers', ' Nine Perfect Strangers', ' ESPN First Take', ' ESPN Major League Baseball', ' Nine Perfect Strangers', ' Nine Perfect Strangers', ' Black-ish', ' Blue Dragon', ' Fairy Tail', ' The Morning After', ' The Morning After', ' The Morning After', ' The Morning After', ' The Morning After', ' The Morning After', ' The Morning After', ' The Morning After', ' The Morning After', ' The Morning After', ' The Morning After', ' The Morning After', ' The Morning After', ' The Morning After', ' The Morning After', ' The Morning After', ' The Morning After', ' The Morning After', ' The Morning After', ' The Morning After', ' The Morning After', ' The Morning After', ' The Morning After', ' The Morning After', ' The Morning After', ' The Morning After', ' The Morning After', ' The Morning After', ' The Morning After', ' The Morning After', ' The Morning After', ' The Morning After', ' The Morning After', ' The Morning After', ' The Morning After', ' The Morning After', ' The Morning After', ' East Los High', ' East Los High', ' East Los High', ' East Los High', ' East Los High', ' East Los High', ' East Los High', ' East Los High', ' The Morning After', ' The Morning After', ' The Morning After', ' Camp Woodward', ' The Morning After', ' The Morning After', ' The Morning After', ' The Morning After', ' The Morning After', ' The Morning After', ' The Morning After', ' The Morning After', ' The Morning After', ' The Morning After', ' The Morning After', ' The Morning After', ' The Morning After', ' The Morning After', ' The Morning After', ' The Morning After', ' The Morning After', ' The Morning After', ' The Morning After', ' The Morning After', ' The Morning After', ' The Morning After', ' The Morning After', ' The Morning After', ' The Morning After', ' The Morning After', ' The Morning After', ' The Morning After', ' The Morning After', ' The Morning After', ' It Could Be Worse', ' It Could Be Worse', ' It Could Be Worse', ' It Could Be Worse', ' It Could Be Worse', ' It Could Be Worse', ' It Could Be Worse', ' It Could Be Worse', ' It Could Be Worse', ' It Could Be Worse', ' It Could Be Worse', ' The Awesomes', ' The Morning After', ' The Morning After', ' The Morning After', ' The Morning After', ' The Morning After', ' The Morning After', ' The Morning After', ' The Morning After', ' The Morning After', ' The Morning After', ' It Could Be Worse', ' The Wrong Mans', ' The Wrong Mans', ' It Could Be Worse', ' Web Therapy', ' Web Therapy', ' Web Therapy', ' Web Therapy', ' Web Therapy', ' Web Therapy', ' Web Therapy', ' Web Therapy', ' Web Therapy', ' Web Therapy', ' Web Therapy', ' Web Therapy', ' Web Therapy', ' Web Therapy', ' Web Therapy', ' Web Therapy', ' Web Therapy', ' Web Therapy', ' Web Therapy', ' Web Therapy', ' Web Therapy', ' Web Therapy', ' Web Therapy', ' Web Therapy', ' Web Therapy', ' Web Therapy', ' Web Therapy', ' Web Therapy', ' Web Therapy', ' Web Therapy', ' Web Therapy', ' Web Therapy', ' Web Therapy', ' Web Therapy', ' Web Therapy', ' The Morning After', ' The Morning After', ' The Morning After', ' The Morning After', ' The Morning After', ' The Morning After', ' The Morning After', ' The Morning After', ' The Morning After', ' The Morning After', ' Welcome to the Family', ' It Could Be Worse', ' Quicklaffs', ' Quicklaffs', ' Quicklaffs', ' Quicklaffs', ' Quicklaffs', ' Quicklaffs', ' Quicklaffs', ' Quicklaffs', ' Quicklaffs', ' Quicklaffs', ' Quicklaffs', ' It Could Be Worse', ' The Morning After', ' The Morning After', ' The Morning After', ' The Morning After', ' The Morning After', ' The Morning After', ' The Morning After', ' The Morning After', ' The Morning After', ' The Morning After', ' The Morning After', ' The Morning After', ' Quicklaffs', ' Quicklaffs', ' Quicklaffs', ' Quicklaffs', ' Quicklaffs', ' Quicklaffs', ' Quicklaffs', ' Quicklaffs', ' Quicklaffs', ' Quicklaffs', ' Quicklaffs', ' Quicklaffs', ' Quicklaffs', ' Quicklaffs', ' Quicklaffs', ' Quicklaffs', ' Quicklaffs', ' Quicklaffs', ' Quicklaffs', ' Quicklaffs', ' Quicklaffs', ' Quicklaffs', ' The Morning After', ' The Morning After', ' The Morning After', ' The Morning After', ' The Morning After', ' The Morning After', ' The Morning After', ' The Morning After', ' The Morning After', ' The Morning After', ' The Morning After', ' The Morning After', ' The Morning After', ' The Morning After', ' The Morning After', ' The Morning After', ' The Morning After', ' The Morning After', ' The Morning After', ' The Morning After', ' The Morning After', ' The Morning After', ' The Morning After', ' The Morning After', ' The Morning After', ' The Morning After', ' The Morning After', ' The Morning After', ' The Morning After', ' The Morning After', ' The Morning After', ' The Morning After', ' The Morning After', ' The Morning After', ' Behind the Mask', ' Behind the Mask', ' Behind the Mask', ' Behind the Mask', ' Behind the Mask', ' Behind the Mask', ' Behind the Mask', ' Behind the Mask', ' Behind the Mask', ' Behind the Mask', ' The Morning After', ' The Morning After', ' The Morning After', ' The Morning After', ' The Morning After', ' The Morning After', ' The Morning After', ' The Morning After', ' The Morning After', ' The Morning After', ' The Morning After', ' The Morning After', ' The Morning After', ' The Morning After', ' The Morning After', ' The Morning After', ' The Morning After', ' The Morning After', ' The Morning After', ' The Morning After', ' The Morning After', ' The Morning After', ' The Morning After', ' The Morning After', ' The Morning After', ' The Morning After', ' The Morning After', ' The Morning After', ' The Morning After', ' The Morning After', ' The Morning After', ' The Morning After', ' The Morning After', ' The Morning After', ' The Morning After', ' The Morning After', ' The Morning After', ' The Morning After', ' Direction', ' Direction', ' Direction', ' Direction', ' Direction', ' The Morning After', ' The Morning After', ' The Morning After', ' The Morning After', ' The Morning After', ' The Morning After', ' The Morning After', ' The Morning After', ' The Morning After', ' The Morning After', ' The Morning After', ' The Morning After', ' The Morning After', ' The Morning After', ' The Morning After', ' The Morning After', ' The Morning After', ' The Morning After', ' The Morning After', ' It Could Be Worse', ' It Could Be Worse', ' The Morning After', ' The Morning After', ' The Morning After', ' The Morning After', ' The Morning After', ' The Morning After', ' The Morning After', ' The Morning After', ' The Morning After', ' The Morning After', ' The Morning After', ' It Could Be Worse', ' It Could Be Worse', \" I Wanna Marry 'Harry'\", ' East Los High', ' The Morning After', ' The Morning After', ' The Morning After', ' The Morning After', ' The Morning After', ' The Morning After', ' The Morning After', ' The Morning After', ' The Morning After', ' The Morning After', ' The Morning After', ' The Morning After', ' The Morning After', ' The Morning After', ' The Morning After', ' The Morning After', ' The Morning After', ' The Morning After', ' The Morning After', ' Game Talk Live', \" I Wanna Marry 'Harry'\", \" I Wanna Marry 'Harry'\", \" I Wanna Marry 'Harry'\", ' Sailor Moon Crystal', ' East Los High', ' The Morning After', ' The Morning After', ' The Morning After', ' The Morning After', ' The Morning After', ' The Morning After', ' The Morning After', ' The Morning After', ' The Morning After', ' The Morning After', ' The Morning After', ' The Morning After', ' The Morning After', ' The Morning After', ' The Morning After', ' The Morning After', ' The Morning After', ' The Morning After', ' The Morning After', ' The Morning After', ' The Morning After', ' The Morning After', ' The Morning After', ' The Morning After', ' The Morning After', ' The Morning After', ' East Los High', ' East Los High', ' East Los High', ' East Los High', ' East Los High', ' East Los High', ' East Los High', ' East Los High', ' East Los High', ' East Los High', ' Sailor Moon Crystal', ' Sailor Moon Crystal', ' Sailor Moon Crystal', ' Sailor Moon Crystal', ' East Los High', ' East Los High', ' East Los High', ' East Los High', ' East Los High', ' East Los High', ' Sailor Moon Crystal', ' Sailor Moon Crystal', ' Sailor Moon Crystal', ' Sailor Moon Crystal', ' Sailor Moon Crystal', ' Sailor Moon Crystal', ' Sailor Moon Crystal', ' Sailor Moon Crystal', ' East Los High', ' The Wrong Mans', ' The Wrong Mans', ' The Wrong Mans', ' Sailor Moon Crystal', ' Sailor Moon Crystal', ' Sailor Moon Crystal', ' Sailor Moon Crystal', ' Sailor Moon Crystal', ' Sailor Moon Crystal', ' Sailor Moon Crystal', ' Sailor Moon Crystal', ' Sailor Moon Crystal', ' Sailor Moon Crystal', ' Sailor Moon Crystal', ' Sailor Moon Crystal', ' Sailor Moon Crystal', ' The Wrong Mans', ' The Musketeers', ' 11.22.63', ' Net_Work', ' Net_Work', ' Net_Work', ' Net_Work', ' Behind the Mask', ' Behind the Mask', ' Behind the Mask', ' Behind the Mask', ' Behind the Mask', ' Behind the Mask', ' Behind the Mask', ' Behind the Mask', ' Behind the Mask', ' Behind the Mask', ' 11.22.63', ' East Los High', ' East Los High', ' East Los High', ' The Musketeers', ' The Musketeers', ' The Musketeers', ' The Path', ' East Los High', ' East Los High', ' East Los High', ' East Los High', ' East Los High', ' East Los High', ' East Los High', ' East Los High', ' The Musketeers', ' The Musketeers', ' The Musketeers', ' The Musketeers', ' The Musketeers', ' The Musketeers', ' Chivalry of a Failed Knight', ' Chivalry of a Failed Knight', ' Chivalry of a Failed Knight', ' Chivalry of a Failed Knight', ' Chivalry of a Failed Knight', ' The Path', ' Chivalry of a Failed Knight', ' Chivalry of a Failed Knight', ' Chivalry of a Failed Knight', ' RocketJump: The Show', ' Chivalry of a Failed Knight', ' The Path', ' The Path', ' Chivalry of a Failed Knight', ' RocketJump: The Show', ' RocketJump: The Show', ' The Path', ' Chivalry of a Failed Knight', ' East Los High', ' Chivalry of a Failed Knight', ' RocketJump: The Show', ' RocketJump: The Show', ' RocketJump: The Show', ' RocketJump: The Show', ' RocketJump: The Show', ' Difficult People', ' Sailor Moon Crystal', ' Sailor Moon Crystal', ' 11.22.63', ' 11.22.63', ' 11.22.63', ' 11.22.63', ' 11.22.63', ' National Treasure', ' National Treasure', ' The Path', ' The Path', ' The Path', ' The Path', ' The Path', ' Sailor Moon Crystal', ' The Path', ' The Path', ' The Path', ' Freakish', ' Freakish', ' Freakish', \" The Handmaid's Tale\", \" The Handmaid's Tale\", \" The Handmaid's Tale\", \" The Handmaid's Tale\", \" The Handmaid's Tale\", \" The Handmaid's Tale\", \" The Handmaid's Tale\", \" The Handmaid's Tale\", \" The Handmaid's Tale\", \" The Handmaid's Tale\", ' Freakish', ' The Path', ' The Path', ' The Path', ' Freakish', \" Triumph's Election Watch 2016\", ' The Path', ' Freakish', ' Freakish', ' Freakish', ' Freakish', ' Freakish', ' The Path', ' The Path', ' The Path', ' The Path', ' The Path', ' The Path', ' Hard Sun', ' Hard Sun', ' Hard Sun', ' Hard Sun', ' The Looming Tower', ' Castle Rock', ' Comedy Invasian', ' Comedy Invasian', ' Comedy Invasian', ' The Path', ' The Path', ' The Path', ' The Path', ' The Path', ' The Path', ' The Path', ' The Path', ' The Path', ' The Path', ' The Path', ' The Path', ' The Path', ' Safe Harbour', ' Safe Harbour', ' Safe Harbour', ' Safe Harbour', ' The Looming Tower', ' The Looming Tower', \" The Handmaid's Tale\", ' The Looming Tower', ' The Looming Tower', ' The Looming Tower', ' The Looming Tower', ' The Looming Tower', ' The Looming Tower', ' Into the Dark', ' Freakish', ' Castle Rock', ' Castle Rock', ' Castle Rock', ' Castle Rock', ' Castle Rock', ' Castle Rock', ' Castle Rock', ' Castle Rock', ' Castle Rock', ' Hard Sun', ' Hard Sun', ' Freakish', ' UnREAL', ' National Treasure: Kiri', \" The Handmaid's Tale\", \" The Handmaid's Tale\", \" The Handmaid's Tale\", \" The Handmaid's Tale\", \" The Handmaid's Tale\", \" The Handmaid's Tale\", \" The Handmaid's Tale\", \" The Handmaid's Tale\", \" The Handmaid's Tale\", \" The Handmaid's Tale\", \" The Handmaid's Tale\", \" The Handmaid's Tale\", ' Freakish', ' Freakish', ' Freakish', ' Freakish', ' Freakish', ' Freakish', ' Freakish', ' Freakish', ' Zac and Mia', ' Zac and Mia', ' Zac and Mia', ' Find Me in Paris', ' Find Me in Paris', ' The Looming Tower', ' Find Me in Paris', ' Find Me in Paris', ' Find Me in Paris', ' Find Me in Paris', ' Find Me in Paris', ' Find Me in Paris', ' Find Me in Paris', ' Find Me in Paris', ' Find Me in Paris', ' Find Me in Paris', ' Find Me in Paris', ' Find Me in Paris', ' Find Me in Paris', ' Find Me in Paris', ' Find Me in Paris', ' Find Me in Paris', ' Find Me in Paris', ' Find Me in Paris', ' Find Me in Paris', ' Find Me in Paris', ' Find Me in Paris', ' Find Me in Paris', ' Find Me in Paris', ' Find Me in Paris', ' Zac and Mia', ' Zac and Mia', ' Zac and Mia', ' Zac and Mia', ' Zac and Mia', ' Zac and Mia', ' Zac and Mia', ' Zac and Mia', ' Zac and Mia', ' Zac and Mia', ' Animaniacs', ' Animaniacs', ' Cardcaptor Sakura: Clear Card Arc', ' Butterfly', \" The Handmaid's Tale\", ' Four Weddings and a Funeral', ' Four Weddings and a Funeral', ' Four Weddings and a Funeral', ' Four Weddings and a Funeral', ' Four Weddings and a Funeral', ' Four Weddings and a Funeral', ' Four Weddings and a Funeral', ' Four Weddings and a Funeral', ' Four Weddings and a Funeral', ' Four Weddings and a Funeral', ' Into the Dark', ' Butterfly', ' Butterfly', ' Comedy Invasian', ' Comedy Invasian', ' Comedy Invasian', ' Zac and Mia', ' Zac and Mia', ' Zac and Mia', ' Zac and Mia', ' Zac and Mia', ' Zac and Mia', ' Zac and Mia', ' Zac and Mia', ' Zac and Mia', ' Zac and Mia', ' Zac and Mia', ' Light as a Feather', ' Into the Dark', ' Light as a Feather', ' Light as a Feather', ' Light as a Feather', ' Light as a Feather', ' Light as a Feather', ' Light as a Feather', ' Light as a Feather', ' Light as a Feather', ' Light as a Feather', ' Into the Dark', ' Into the Dark', ' Shrill', ' Shrill', ' Shrill', ' Shrill', ' Shrill', ' Shrill', ' Into the Dark', ' Into the Dark', ' The Bisexual', ' The Bisexual', ' The Bisexual', ' The Bisexual', ' The Bisexual', ' The Bisexual', ' Into the Dark', ' Into the Dark', ' Into the Dark', ' Into the Dark', ' Into the Dark', \" The Handmaid's Tale\", \" The Handmaid's Tale\", \" The Handmaid's Tale\", ' The Act', \" The Handmaid's Tale\", \" The Handmaid's Tale\", ' Love Daily', \" The Handmaid's Tale\", \" The Handmaid's Tale\", \" The Handmaid's Tale\", \" The Handmaid's Tale\", ' Dollface', ' Dollface', ' Dollface', ' Dollface', ' Dollface', ' Dollface', ' Dollface', ' Dollface', ' Dollface', ' Dollface', ' Light as a Feather', ' Light as a Feather', ' Light as a Feather', ' Light as a Feather', ' Light as a Feather', ' Light as a Feather', ' Light as a Feather', ' Light as a Feather', ' Light as a Feather', ' Light as a Feather', ' Light as a Feather', ' Light as a Feather', ' Light as a Feather', ' Light as a Feather', ' Light as a Feather', ' Light as a Feather', \" The Handmaid's Tale\", \" The Handmaid's Tale\", \" The Handmaid's Tale\", ' Light as a Feather', ' Light as a Feather', ' Light as a Feather', ' Light as a Feather', \" The Handmaid's Tale\", \" The Handmaid's Tale\", \" The Handmaid's Tale\", ' Light as a Feather', ' Light as a Feather', ' Light as a Feather', ' Light as a Feather', \" The Handmaid's Tale\", \" The Handmaid's Tale\", \" The Handmaid's Tale\", ' Light as a Feather', ' Light as a Feather', ' Light as a Feather', ' Light as a Feather', \" The Handmaid's Tale\", \" The Handmaid's Tale\", \" The Handmaid's Tale\", ' Light as a Feather', ' Light as a Feather', ' Light as a Feather', ' Light as a Feather', \" The Handmaid's Tale\", \" The Handmaid's Tale\", \" The Handmaid's Tale\", ' Light as a Feather', ' Light as a Feather', ' Light as a Feather', ' Light as a Feather', \" The Handmaid's Tale\", \" The Handmaid's Tale\", \" The Handmaid's Tale\", ' Light as a Feather', ' Light as a Feather', ' Light as a Feather', ' Light as a Feather', \" The Handmaid's Tale\", \" The Handmaid's Tale\", \" The Handmaid's Tale\", ' Light as a Feather', ' Light as a Feather', ' Light as a Feather', ' Light as a Feather', \" The Handmaid's Tale\", \" The Handmaid's Tale\", \" The Handmaid's Tale\", ' Light as a Feather', ' Light as a Feather', ' Light as a Feather', ' Light as a Feather', \" The Handmaid's Tale\", \" The Handmaid's Tale\", \" The Handmaid's Tale\", ' Light as a Feather', ' Light as a Feather', ' Light as a Feather', ' Light as a Feather', \" The Handmaid's Tale\", \" The Handmaid's Tale\", \" The Handmaid's Tale\", ' Light as a Feather', ' Light as a Feather', ' Light as a Feather', ' Light as a Feather', \" The Handmaid's Tale\", \" The Handmaid's Tale\", \" The Handmaid's Tale\", ' Light as a Feather', ' Light as a Feather', ' Light as a Feather', ' Light as a Feather', \" The Handmaid's Tale\", \" The Handmaid's Tale\", \" The Handmaid's Tale\", ' Light as a Feather', ' Light as a Feather', ' Light as a Feather', ' Light as a Feather', \" The Handmaid's Tale\", \" The Handmaid's Tale\", \" The Handmaid's Tale\"], 'rating': ['8.5', '8.5', '7.4', '8.7', '4.8', '7.8', '8.6', '8.1', '7.7', '8.1', '7.3', '7.9', '7.7', '8', '7.9', '8.7', '8.3', '7.6', '8', '6.5', '8', '7.8', '6.3', '7.7', '7.3', '7.8', '8.2', '7', '8.1', '7.4', '7.7', '7.2', '7.4', '5.7', '6.3', '7.5', '7.9', '7.3', '8', '7.2', '7.6', '6.9', '8.1', '6.8', '8.3', '7.8', '5', '7.8', '7.5', '7.3', '4', '8', '7.3', '7.4', '6.3', '8.2', '6.6', '7.5', '8.2', 'NULL', '5.4', '7.3', '6.7', 'NULL', 'NULL', '7.7', 'NULL', 'NULL', '6.7', 'NULL', '7.8', '7', '6.1', '5.9', '6.9', '7.6', '6.2', '7.9', '8.5', '4.2', '5.3', '6.6', '7.7', '7.7', '8.8', '7.3', '6.3', '7.5', '7.4', '7.4', '6.9', '6.3', '7', '7.4', '8.3', '5.9', '7.8', 'NULL', '8.1', '6.2', '6.6', '6.6', '3.9', '5.5', 'NULL', '6.7', 'NULL', '6.9', '5.7', '7.1', '7.1', 'NULL', '4.4', '6.4', '4.5', '7.8', '6.9', 'NULL', '4.8', '4.5', '4.3', 'NULL', '6.1', '4.3', '6.4', '5.4', '5.9', '5.4', 'NULL', '6.3', 'NULL', '6.8', '6.2', 'NULL', '6.6', '7.9', '6.8', '8.7', '7.9', '7', '7.6', '8.9', '7', '8.2', '7', '7.7', '8.5', '7.3', '7.4', '7.5', '7.6', '7.2', '7.8', '8.1', '7.7', '7.8', '7.9', '8.1', '8', '8.3', '7.9', '8.6', '8.3', 'NULL', 'NULL', 'NULL', '5.6', '5.7', '6.6', '6', '6.3', 'NULL', '6.6', 'NULL', 'NULL', 'NULL', 'NULL', 'NULL', 'NULL', 'NULL', 'NULL', 'NULL', 'NULL', 'NULL', 'NULL', '4.4', '5.3', 'NULL', '5.6', '5.4', '6.3', '6.1', 'NULL', 'NULL', 'NULL', 'NULL', 'NULL', 'NULL', 'NULL', 'NULL', 'NULL', 'NULL', 'NULL', 'NULL', 'NULL', 'NULL', 'NULL', 'NULL', 'NULL', 'NULL', 'NULL', 'NULL', 'NULL', 'NULL', 'NULL', 'NULL', 'NULL', 'NULL', 'NULL', 'NULL', 'NULL', 'NULL', 'NULL', 'NULL', 'NULL', 'NULL', 'NULL', '7.8', '7.6', '7.5', 'NULL', 'NULL', 'NULL', 'NULL', 'NULL', 'NULL', 'NULL', 'NULL', 'NULL', 'NULL', 'NULL', 'NULL', 'NULL', 'NULL', 'NULL', 'NULL', 'NULL', 'NULL', 'NULL', 'NULL', 'NULL', 'NULL', 'NULL', 'NULL', 'NULL', 'NULL', 'NULL', 'NULL', 'NULL', 'NULL', 'NULL', 'NULL', 'NULL', 'NULL', 'NULL', 'NULL', 'NULL', 'NULL', 'NULL', 'NULL', 'NULL', 'NULL', 'NULL', 'NULL', 'NULL', 'NULL', 'NULL', 'NULL', 'NULL', 'NULL', 'NULL', 'NULL', 'NULL', 'NULL', 'NULL', 'NULL', 'NULL', 'NULL', 'NULL', 'NULL', 'NULL', 'NULL', 'NULL', 'NULL', 'NULL', 'NULL', 'NULL', 'NULL', 'NULL', 'NULL', 'NULL', 'NULL', 'NULL', 'NULL', 'NULL', 'NULL', 'NULL', 'NULL', 'NULL', 'NULL', 'NULL', 'NULL', 'NULL', 'NULL', 'NULL', 'NULL', 'NULL', 'NULL', 'NULL', 'NULL', '7.5', 'NULL', 'NULL', 'NULL', 'NULL', 'NULL', 'NULL', 'NULL', 'NULL', 'NULL', 'NULL', 'NULL', '7.7', '7.8', 'NULL', '6.8', '4.8', 'NULL', 'NULL', 'NULL', 'NULL', 'NULL', 'NULL', 'NULL', 'NULL', 'NULL', 'NULL', 'NULL', 'NULL', 'NULL', 'NULL', 'NULL', 'NULL', '5.6', 'NULL', 'NULL', 'NULL', 'NULL', '7.2', 'NULL', 'NULL', 'NULL', '7.2', 'NULL', '8.3', 'NULL', 'NULL', 'NULL', 'NULL', 'NULL', 'NULL', 'NULL', 'NULL', 'NULL', 'NULL', 'NULL', 'NULL', 'NULL', 'NULL', 'NULL', '6.7', 'NULL', 'NULL', 'NULL', 'NULL', 'NULL', 'NULL', 'NULL', 'NULL', 'NULL', 'NULL', 'NULL', 'NULL', 'NULL', 'NULL', 'NULL', 'NULL', 'NULL', 'NULL', 'NULL', 'NULL', 'NULL', 'NULL', 'NULL', 'NULL', 'NULL', 'NULL', 'NULL', 'NULL', 'NULL', 'NULL', 'NULL', 'NULL', 'NULL', 'NULL', 'NULL', 'NULL', 'NULL', 'NULL', 'NULL', 'NULL', 'NULL', 'NULL', 'NULL', 'NULL', 'NULL', 'NULL', 'NULL', 'NULL', 'NULL', 'NULL', 'NULL', 'NULL', 'NULL', 'NULL', 'NULL', 'NULL', 'NULL', 'NULL', 'NULL', 'NULL', 'NULL', 'NULL', 'NULL', 'NULL', 'NULL', 'NULL', 'NULL', 'NULL', 'NULL', 'NULL', 'NULL', 'NULL', 'NULL', 'NULL', 'NULL', 'NULL', 'NULL', 'NULL', 'NULL', 'NULL', 'NULL', '8.5', '8.4', '8.4', 'NULL', 'NULL', 'NULL', 'NULL', 'NULL', 'NULL', 'NULL', 'NULL', 'NULL', 'NULL', 'NULL', 'NULL', 'NULL', 'NULL', 'NULL', 'NULL', 'NULL', 'NULL', 'NULL', 'NULL', 'NULL', 'NULL', 'NULL', 'NULL', 'NULL', 'NULL', 'NULL', 'NULL', 'NULL', 'NULL', 'NULL', 'NULL', 'NULL', 'NULL', 'NULL', 'NULL', 'NULL', 'NULL', 'NULL', 'NULL', 'NULL', 'NULL', 'NULL', 'NULL', 'NULL', 'NULL', 'NULL', 'NULL', 'NULL', 'NULL', 'NULL', 'NULL', 'NULL', 'NULL', 'NULL', 'NULL', 'NULL', 'NULL', 'NULL', 'NULL', 'NULL', 'NULL', 'NULL', 'NULL', 'NULL', 'NULL', 'NULL', 'NULL', 'NULL', 'NULL', 'NULL', 'NULL', 'NULL', 'NULL', 'NULL', 'NULL', 'NULL', 'NULL', 'NULL', 'NULL', 'NULL', 'NULL', 'NULL', 'NULL', '5.9', '7.8', 'NULL', 'NULL', 'NULL', 'NULL', 'NULL', 'NULL', 'NULL', 'NULL', 'NULL', 'NULL', 'NULL', 'NULL', 'NULL', 'NULL', 'NULL', 'NULL', 'NULL', 'NULL', 'NULL', 'NULL', '6.1', 'NULL', '5', '7.9', 'NULL', 'NULL', 'NULL', 'NULL', 'NULL', 'NULL', 'NULL', 'NULL', 'NULL', 'NULL', 'NULL', 'NULL', 'NULL', 'NULL', 'NULL', 'NULL', 'NULL', 'NULL', 'NULL', 'NULL', 'NULL', 'NULL', 'NULL', 'NULL', 'NULL', 'NULL', 'NULL', '8', '8', 'NULL', '8', '8.8', '8.2', '8.5', '8.8', '7.4', '8.6', '8', '8.3', '7.6', '8.4', 'NULL', 'NULL', 'NULL', 'NULL', 'NULL', 'NULL', '7.9', '7.9', '7.9', '8.1', '8.2', '7.9', '8', '7.7', '8.5', '8.7', '8.3', '8.5', '7.6', '7.6', '7.6', '7.7', '7.8', '7.8', '7.7', '7.4', '8', '6.9', '7.2', '7.7', '7.5', '8.6', '8.1', '8.6', 'NULL', 'NULL', 'NULL', 'NULL', 'NULL', 'NULL', 'NULL', 'NULL', 'NULL', 'NULL', 'NULL', 'NULL', 'NULL', 'NULL', '8.1', '8', '8.9', '8', '7.8', '7.8', '7.7', '7.7', '7.8', '8.6', '7.6', '8.4', '7.8', '7.9', '8.6', '8.1', '7.8', '8.5', '7.7', '8.9', '8', '8.9', '7.7', '8.1', '8.5', '8.2', '7.8', '8', '8.3', '9', '8.7', '7', '8.2', '8', '7.9', '9.2', '6.5', '6.9', '8.5', '8.4', '8.3', '9.2', '6.8', '6.9', '6.1', '6.1', '7.9', '8.2', '8.3', '8.2', '8.6', '7.8', '8.2', '8.1', '8.1', '7.5', '7.7', '7.9', '8', '8.2', '8.6', '8.3', '8.4', '7.6', '7.4', '7.6', '7.4', '7', '7.2', '8.3', '8.2', '8.7', '9.1', '8.2', '8.2', '8.8', '8', '8.1', '8.8', '7.6', '7.3', '7.8', '7.8', '6.7', '5.2', '8', '6.6', '7.2', '7.1', '7.7', '7.5', '7.6', '7.5', '7.6', '7.3', '7.9', '8.5', '7.5', '7.2', '7.4', '7.5', '7.9', '8.1', 'NULL', 'NULL', 'NULL', '7.6', '7.8', '7.6', '8', '7.9', '8', '7.9', '8.1', '8.1', '7.8', '7.8', '8.4', '7.9', '7.3', '7.1', '7.2', '6.8', '8', '8.1', '8.9', '7.7', '7.6', '7.8', '8.3', '8', '8', '6.3', '7.3', '8.1', '8', '8.4', '8', '8.2', '9.1', '8.4', '8.8', '7', '7.6', '7.6', '7.2', '7.6', '6.9', '8.3', '8.1', '8', '8.1', '8.9', '8.3', '8.8', '9', '9.1', '8.4', '8.4', '8.6', '7.3', '6.8', '7.1', '7.2', '7.2', '7.1', '7.6', '7.5', '7.9', '7.6', '8', '8.5', '9.5', '8.7', '9.3', '9.4', '9.1', '9.1', '8.9', '9.8', '9.3', '9.6', '9.3', '9.6', '9.3', '9.6', '9.4', '8.8', '9.4', '9.4', '9.1', '9.4', '9.5', '9.3', '9.3', '9.6', '9.5', '9.5', '7.6', '7.4', '7', '8.3', '8', '8', '8', '8.8', '9', '7.6', 'NULL', 'NULL', '7.4', '6.7', '8.4', '7.6', '7.4', '7.4', '8.1', '7.6', '7.4', '7.9', '8', '8.4', '8.7', '6.2', '7.3', '6.5', 'NULL', 'NULL', 'NULL', '8.2', 'NULL', 'NULL', 'NULL', 'NULL', 'NULL', 'NULL', 'NULL', 'NULL', 'NULL', 'NULL', '6.9', '6.1', '7.3', '7.1', '7.2', '7.5', '7.4', '7.4', '7.5', '7.5', '7.2', '5.4', '5.7', '7.4', '7.5', '7.6', '8.5', '7.4', '7.2', '6.5', '4.8', '5.9', '5.9', '5.8', '5.8', '5.6', '5.9', '5.7', '5.8', '5.7', '5.8', '5.9', '8.1', '7.8', '8.1', '8.5', '8.5', '8.2', 'NULL', '8.2', '7.2', '7.7', '6.1', '7.5', '7.7', '7.7', '7.8', '8.3', '8.1', '8.2', '7.9', '8.1', '8.1', '7.6', '7.8', '7.7', '7.9', '7.8', '7.8', '8', '8', '7.8', '7.8', '7.6', '8.3', '7.7', '7.7', '7.6', '7.6', '9.3', '8.2', '9.4', '7.7', '7.7', '7.6', '7.6', '9.3', '8.2', '9.4', '7.7', '7.7', '7.6', '7.6', '9.3', '8.2', '9.4', '7.7', '7.7', '7.6', '7.6', '9.3', '8.2', '9.4', '7.7', '7.7', '7.6', '7.6', '9.3', '8.2', '9.4', '7.7', '7.7', '7.6', '7.6', '9.3', '8.2', '9.4', '7.7', '7.7', '7.6', '7.6', '9.3', '8.2', '9.4', '7.7', '7.7', '7.6', '7.6', '9.3', '8.2', '9.4', '7.7', '7.7', '7.6', '7.6', '9.3', '8.2', '9.4', '7.7', '7.7', '7.6', '7.6', '9.3', '8.2', '9.4', '7.7', '7.7', '7.6', '7.6', '9.3', '8.2', '9.4', '7.7', '7.7', '7.6', '7.6', '9.3', '8.2', '9.4', '7.7', '7.7', '7.6', '7.6', '9.3', '8.2', '9.4']}\n"
     ]
    }
   ],
   "source": [
    "print(movie_dict)"
   ]
  },
  {
   "cell_type": "code",
   "execution_count": 9,
   "metadata": {
    "scrolled": true
   },
   "outputs": [
    {
     "data": {
      "text/html": [
       "<div>\n",
       "<style scoped>\n",
       "    .dataframe tbody tr th:only-of-type {\n",
       "        vertical-align: middle;\n",
       "    }\n",
       "\n",
       "    .dataframe tbody tr th {\n",
       "        vertical-align: top;\n",
       "    }\n",
       "\n",
       "    .dataframe thead th {\n",
       "        text-align: right;\n",
       "    }\n",
       "</style>\n",
       "<table border=\"1\" class=\"dataframe\">\n",
       "  <thead>\n",
       "    <tr style=\"text-align: right;\">\n",
       "      <th></th>\n",
       "      <th>title</th>\n",
       "      <th>rating</th>\n",
       "    </tr>\n",
       "  </thead>\n",
       "  <tbody>\n",
       "    <tr>\n",
       "      <th>0</th>\n",
       "      <td>Community</td>\n",
       "      <td>8.5</td>\n",
       "    </tr>\n",
       "    <tr>\n",
       "      <th>1</th>\n",
       "      <td>The Handmaid's Tale</td>\n",
       "      <td>8.5</td>\n",
       "    </tr>\n",
       "    <tr>\n",
       "      <th>2</th>\n",
       "      <td>Palm Springs</td>\n",
       "      <td>7.4</td>\n",
       "    </tr>\n",
       "    <tr>\n",
       "      <th>3</th>\n",
       "      <td>Line of Duty</td>\n",
       "      <td>8.7</td>\n",
       "    </tr>\n",
       "    <tr>\n",
       "      <th>4</th>\n",
       "      <td>The Binge</td>\n",
       "      <td>4.8</td>\n",
       "    </tr>\n",
       "    <tr>\n",
       "      <th>...</th>\n",
       "      <td>...</td>\n",
       "      <td>...</td>\n",
       "    </tr>\n",
       "    <tr>\n",
       "      <th>1055</th>\n",
       "      <td>Light as a Feather</td>\n",
       "      <td>7.6</td>\n",
       "    </tr>\n",
       "    <tr>\n",
       "      <th>1056</th>\n",
       "      <td>Light as a Feather</td>\n",
       "      <td>7.6</td>\n",
       "    </tr>\n",
       "    <tr>\n",
       "      <th>1057</th>\n",
       "      <td>The Handmaid's Tale</td>\n",
       "      <td>9.3</td>\n",
       "    </tr>\n",
       "    <tr>\n",
       "      <th>1058</th>\n",
       "      <td>The Handmaid's Tale</td>\n",
       "      <td>8.2</td>\n",
       "    </tr>\n",
       "    <tr>\n",
       "      <th>1059</th>\n",
       "      <td>The Handmaid's Tale</td>\n",
       "      <td>9.4</td>\n",
       "    </tr>\n",
       "  </tbody>\n",
       "</table>\n",
       "<p>1060 rows × 2 columns</p>\n",
       "</div>"
      ],
      "text/plain": [
       "                     title rating\n",
       "0                Community    8.5\n",
       "1      The Handmaid's Tale    8.5\n",
       "2             Palm Springs    7.4\n",
       "3             Line of Duty    8.7\n",
       "4                The Binge    4.8\n",
       "...                    ...    ...\n",
       "1055    Light as a Feather    7.6\n",
       "1056    Light as a Feather    7.6\n",
       "1057   The Handmaid's Tale    9.3\n",
       "1058   The Handmaid's Tale    8.2\n",
       "1059   The Handmaid's Tale    9.4\n",
       "\n",
       "[1060 rows x 2 columns]"
      ]
     },
     "execution_count": 9,
     "metadata": {},
     "output_type": "execute_result"
    }
   ],
   "source": [
    "import pandas as pd\n",
    "pd.DataFrame(movie_dict)\n",
    "\n",
    "\n",
    "# Doing groupby because "
   ]
  }
 ],
 "metadata": {
  "kernelspec": {
   "display_name": "Python 3",
   "language": "python",
   "name": "python3"
  },
  "language_info": {
   "codemirror_mode": {
    "name": "ipython",
    "version": 3
   },
   "file_extension": ".py",
   "mimetype": "text/x-python",
   "name": "python",
   "nbconvert_exporter": "python",
   "pygments_lexer": "ipython3",
   "version": "3.6.10"
  }
 },
 "nbformat": 4,
 "nbformat_minor": 4
}
