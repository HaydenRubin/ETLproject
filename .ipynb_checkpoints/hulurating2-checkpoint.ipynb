{
 "cells": [
  {
   "cell_type": "code",
   "execution_count": 1,
   "metadata": {},
   "outputs": [],
   "source": [
    "from splinter import Browser\n",
    "from bs4 import BeautifulSoup"
   ]
  },
  {
   "cell_type": "markdown",
   "metadata": {},
   "source": [
    "# Mac Users"
   ]
  },
  {
   "cell_type": "code",
   "execution_count": 2,
   "metadata": {},
   "outputs": [],
   "source": [
    "# https://splinter.readthedocs.io/en/latest/drivers/chrome.html\n",
    "# !which chromedriver"
   ]
  },
  {
   "cell_type": "code",
   "execution_count": 3,
   "metadata": {},
   "outputs": [],
   "source": [
    "# /usr/local/bin/chromedriver"
   ]
  },
  {
   "cell_type": "code",
   "execution_count": 4,
   "metadata": {},
   "outputs": [],
   "source": [
    "# executable_path = {'executable_path': '/usr/local/bin/chromedriver'}\n",
    "# browser = Browser('chrome', **executable_path, headless=False)"
   ]
  },
  {
   "cell_type": "markdown",
   "metadata": {},
   "source": [
    "# Windows"
   ]
  },
  {
   "cell_type": "code",
   "execution_count": 5,
   "metadata": {},
   "outputs": [],
   "source": [
    "executable_path = {'executable_path': 'chromedriver.exe'}\n",
    "browser = Browser('chrome', **executable_path, headless=False)"
   ]
  },
  {
   "cell_type": "code",
   "execution_count": 6,
   "metadata": {},
   "outputs": [],
   "source": [
    "url = 'https://www.imdb.com/search/title/?companies=co0218858'\n",
    "browser.visit(url)"
   ]
  },
  {
   "cell_type": "code",
   "execution_count": null,
   "metadata": {},
   "outputs": [
    {
     "name": "stderr",
     "output_type": "stream",
     "text": [
      "C:\\Users\\spuna\\anaconda3\\lib\\site-packages\\splinter\\driver\\webdriver\\__init__.py:493: FutureWarning: browser.find_link_by_partial_text is deprecated. Use browser.links.find_by_partial_text instead.\n",
      "  FutureWarning,\n"
     ]
    }
   ],
   "source": [
    "movie_dict = {}\n",
    "for x in range(1, 50):\n",
    "\n",
    "    html = browser.html\n",
    "    soup = BeautifulSoup(html, 'html.parser')\n",
    "\n",
    "    articles = soup.find_all('div', class_='lister-item-content')\n",
    " \n",
    "    \n",
    "    for article in articles:\n",
    "        \n",
    "        # Use Beautiful Soup's find() method to navigate and retrieve attributes\n",
    "        h3 = article.find('h3')\n",
    "        title = h3.find('a').text\n",
    "        if \"title\" in movie_dict:\n",
    "            movie_dict[\"title\"].append(title)\n",
    "        else:\n",
    "            movie_dict[\"title\"] = [title]\n",
    "        \n",
    "        try:\n",
    "            rating_bar = article.find('div', class_='ratings-bar')\n",
    "            rating = rating_bar.find('div', class_='inline-block ratings-imdb-rating')['data-value']\n",
    "            if \"rating\" in movie_dict:\n",
    "                movie_dict[\"rating\"].append(rating)\n",
    "            else:\n",
    "                movie_dict[\"rating\"] = [rating]\n",
    "            \n",
    "        except:\n",
    "            movie_dict[\"rating\"].append(None)\n",
    "        \n",
    "            \n",
    "        \n",
    "        \n",
    "    try:\n",
    "        browser.click_link_by_partial_text('Next')\n",
    "          \n",
    "    except:\n",
    "        print(\"Scraping Complete\")"
   ]
  },
  {
   "cell_type": "code",
   "execution_count": 7,
   "metadata": {},
   "outputs": [
    {
     "name": "stdout",
     "output_type": "stream",
     "text": [
      "{'title': ['Community', \"The Handmaid's Tale\", 'Palm Springs', 'Line of Duty', 'The Binge', 'Little Fires Everywhere', 'Normal People', 'The Great', 'Harlots', 'Portrait of a Lady on Fire', 'Rocketman', 'Mrs. America', 'Devs', 'The Orville', 'The Golden Girls', 'Letterkenny', 'Veronica Mars', 'Castle Rock', 'Ramy', 'I Still Believe', 'The Act', 'The Musketeers', 'Into the Dark', 'High Fidelity', 'King of the Hill', 'Future Man', '11.22.63', 'Runaways', 'Love, Victor', 'The Mindy Project', 'Cardinal', 'Find Me in Paris', 'Das Boot', 'Fantastic Four', 'Terminator 3: Rise of the Machines', 'Pokémon', 'PEN15', 'Dollface', 'Solar Opposites', 'Four Weddings and a Funeral', 'Harrow', 'Kingpin', 'Looking for Alaska', 'Waiting...', 'Brassic', 'UnREAL', 'UglyDolls', 'Catch-22', 'Reprisal', 'Corpse Bride', 'Wounds', 'The Looming Tower', 'Detroit', 'Shrill', 'Little Monsters', 'Wu-Tang: An American Saga', 'Light as a Feather', 'Casual', 'Kaguya-sama: Love is War', 'Nine Perfect Strangers', 'The Spy Next Door', 'The Path', 'Crossing Swords', 'Woke', 'Helstrom', 'Chance', 'The Devil in the White City', 'Monsterland', 'The First', 'Run', 'This Way Up', 'Difficult People', 'The Bisexual', 'The Way Home', 'Famous in Love', 'Deutschland 86', 'Undisputed', 'Kingdom', \"Dr. Horrible's Sing-Along Blog\", 'In Extremis', 'Bad Hair', 'Hard Sun', 'Sailor Moon', 'GameFace', 'Maxxx', 'Shut Eye', 'Alone Together', 'Deadbeat', 'Chivalry of a Failed Knight', 'National Treasure', 'Light Sleeper', 'Freakish', 'Sonic Boom', 'The Hotwives of Orlando', 'The Booth at the End', 'Joshy', 'The Wrong Mans', 'Animaniacs', 'Minding the Gap', 'Butterfly', 'National Treasure: Kiri', 'Dimension 404', 'Little Bitches', 'Citizen Jane', 'Less Than Zero', 'Fair Haven', 'Books of Blood', 'Zomboat!', 'East Los High', 'All Night', 'Madagascar: A Little Wild', 'Taste the Nation with Padma Lakshmi', 'We Are Freestyle Love Supreme', 'Becoming Bond', 'Found', 'Vacation Friends', 'The Mysterious Benedict Society', 'Endlings', 'Sailor Moon Crystal', 'Hillary', 'Bees Make Honey', 'Holly Hobbie', 'Safe Harbour', 'A Cam Life', 'Chicago Overcoat', 'WWE NXT', 'M.O.D.O.K.', 'Untouchable', 'The Hug', 'Austin Found', 'The Hotwives of Las Vegas', 'Infinite Stratos', 'Paranormal Calamity', 'Wasted', 'The Awesomes', 'Dopesick', 'The Beatles: Eight Days a Week - The Touring Years', 'Betch', 'Quick Draw', 'Littlekenny', 'The Hardy Boys', '2020 Golden Globe Awards', 'Manhattan Love Story', 'Ask Dr. Ruth', 'Pocket Listing', '\"The Sister\"', 'Only Murders in the Building', 'Vyzhit posle', 'The Amazing Johnathan Documentary', \"Susie's Hope\", ' Blue Dragon', ' Fairy Tail', ' Fairy Tail', ' Hollywood East', ' Hollywood East', ' Hollywood East', ' Hollywood East', ' Hollywood East', ' Hollywood East', ' Hollywood East', ' Hollywood East', ' Hollywood East', ' Hollywood East', ' The Confession', ' The Confession', ' The Confession', ' The Confession', ' The Confession', ' The Confession', ' The Confession', ' The Confession', ' The Confession', ' The Confession', ' Workshop', ' Workshop', ' The Morning After', ' Workshop', ' Workshop', ' Toriko', ' Workshop', ' Workshop', ' Awake', ' The Morning After', ' The Morning After', ' The Morning After', ' The Morning After', ' The Morning After', ' The Morning After', ' The Morning After', ' Zapiski ekspeditora Taynoy kantselyarii', ' Zapiski ekspeditora Taynoy kantselyarii', ' Zapiski ekspeditora Taynoy kantselyarii', ' Zapiski ekspeditora Taynoy kantselyarii', ' Zapiski ekspeditora Taynoy kantselyarii', ' Zapiski ekspeditora Taynoy kantselyarii', ' Zapiski ekspeditora Taynoy kantselyarii', ' Zapiski ekspeditora Taynoy kantselyarii', ' The Morning After', ' The Morning After', ' The Morning After', ' Line of Duty', ' Line of Duty', ' Line of Duty', ' The Morning After', ' The Morning After', ' The Morning After', ' The Morning After', ' The Morning After', ' The Morning After', ' The Morning After', ' The Morning After', ' The Morning After', ' The Morning After', ' The Morning After', ' The Morning After', ' The Morning After', ' The Morning After', ' The Morning After', ' The Morning After', ' The Morning After', ' The Morning After', ' The Morning After', ' The Morning After', ' The Morning After', ' The Morning After', ' The Morning After', ' The Morning After', ' The Morning After', ' The Morning After', ' The Morning After', ' The Morning After', ' The Morning After', ' The Morning After', ' The Morning After', ' The Morning After', ' The Morning After', ' The Morning After', ' The Morning After', ' The Morning After', ' The Morning After', ' The Morning After', ' The Morning After', ' The Morning After', ' The Morning After', ' The Morning After', ' The Morning After', ' The Morning After', ' The Morning After', ' The Morning After', ' The Morning After', ' Quicklaffs', ' Quicklaffs', ' Quicklaffs', ' The Wrong Mans', ' The Wrong Mans', ' The Wrong Mans', ' The Wrong Mans', ' The Morning After', ' The Morning After', ' The Morning After', ' The Morning After', ' The Morning After', ' The Morning After', ' The Morning After', ' The Morning After', ' The Morning After', ' The Morning After', ' The Morning After', ' The Morning After', ' The Morning After', ' The Morning After', ' The Morning After', ' The Morning After', ' The Morning After', ' The Morning After', ' The Morning After', ' The Morning After', ' The Morning After', ' The Morning After', ' The Morning After', ' The Morning After', ' The Morning After', ' The Morning After', ' The Morning After', ' The Morning After', ' The Morning After', ' The Morning After', ' East Los High', ' The Awesomes', ' The Morning After', ' The Morning After', ' The Morning After', ' The Morning After', ' The Morning After', ' The Morning After', ' The Morning After', ' The Morning After', ' The Morning After', ' The Morning After', ' The Morning After', ' The Morning After', ' The Morning After', ' The Morning After', ' The Morning After', ' The Morning After', ' The Morning After', ' The Morning After', ' The Morning After', ' The Morning After', ' The Morning After', ' The Morning After', ' The Morning After', ' The Morning After', ' The Morning After', ' The Morning After', ' The Morning After', ' The Morning After', ' The Morning After', ' The Morning After', ' The Morning After', ' The Morning After', ' The Morning After', ' The Morning After', ' The Morning After', ' The Morning After', ' The Morning After', ' The Morning After', ' The Morning After', ' The Morning After', ' The Morning After', ' The Morning After', ' The Morning After', ' The Morning After', ' The Morning After', ' The Morning After', ' The Morning After', ' The Morning After', ' The Morning After', ' The Morning After', ' The Morning After', ' The Morning After', ' The Morning After', ' The Morning After', ' The Morning After', ' The Morning After', ' The Morning After', ' The Morning After', ' The Morning After', ' The Morning After', ' The Morning After', ' The Morning After', ' The Morning After', ' Behind the Mask', ' Behind the Mask', ' Behind the Mask', ' Behind the Mask', ' Behind the Mask', ' Behind the Mask', ' Behind the Mask', ' Behind the Mask', ' Behind the Mask', ' Behind the Mask', ' The Morning After', ' The Morning After', ' The Morning After', ' The Morning After', ' The Morning After', ' The Morning After', ' The Morning After', ' The Morning After', ' The Morning After', ' The Morning After', ' The Morning After', ' The Morning After', ' The Morning After', ' The Morning After', ' The Morning After', ' The Morning After', ' The Morning After', ' The Morning After', ' The Morning After', ' The Morning After', ' The Morning After', ' The Morning After', ' The Morning After', ' The Morning After', ' The Morning After', ' The Morning After', ' The Morning After', ' The Morning After', ' The Morning After', ' The Morning After', ' The Morning After', ' The Morning After', ' The Morning After', ' The Morning After', ' The Morning After', ' The Morning After', ' The Morning After', ' The Morning After', ' The Morning After', ' The Morning After', ' Direction', ' Direction', ' Direction', ' Direction', ' Direction', ' The Morning After', ' The Morning After', ' The Morning After', ' The Morning After', ' The Morning After', ' The Morning After', ' The Morning After', ' The Morning After', ' The Morning After', ' The Morning After', ' The Morning After', \" I Wanna Marry 'Harry'\", \" I Wanna Marry 'Harry'\", ' Sailor Moon Crystal', ' East Los High', ' The Morning After', ' The Morning After', ' The Morning After', ' The Morning After', ' The Morning After', ' The Morning After', ' The Morning After', ' The Morning After', ' The Morning After', ' The Morning After', ' The Morning After', ' The Morning After', ' The Morning After', ' The Morning After', ' The Morning After', ' The Morning After', ' The Morning After', ' The Morning After', ' The Morning After', ' The Morning After', ' The Morning After', ' The Morning After', ' The Morning After', ' The Morning After', ' The Morning After', ' The Morning After', ' East Los High', ' East Los High', ' East Los High', ' East Los High', ' East Los High', ' East Los High', ' East Los High', ' East Los High', ' East Los High', ' East Los High', ' Sailor Moon Crystal', ' Sailor Moon Crystal', ' Sailor Moon Crystal', ' Sailor Moon Crystal', ' East Los High', ' East Los High', ' East Los High', ' East Los High', ' East Los High', ' East Los High', ' Zac and Mia', ' Zac and Mia', ' Zac and Mia', ' Animaniacs', ' Animaniacs', ' Cardcaptor Sakura: Clear Card Arc', ' Butterfly', \" The Handmaid's Tale\", ' Four Weddings and a Funeral', ' Four Weddings and a Funeral', ' Four Weddings and a Funeral', ' Four Weddings and a Funeral', ' Four Weddings and a Funeral', ' Four Weddings and a Funeral', ' Four Weddings and a Funeral', ' Four Weddings and a Funeral', ' Four Weddings and a Funeral', ' Four Weddings and a Funeral', ' Into the Dark', ' Butterfly', ' Butterfly', ' Comedy Invasian', ' Comedy Invasian', ' Comedy Invasian', ' Zac and Mia', ' Zac and Mia', ' Zac and Mia', ' Zac and Mia', ' Zac and Mia', ' Zac and Mia', ' Zac and Mia', ' Zac and Mia', ' Zac and Mia', ' Zac and Mia', ' Zac and Mia', ' Light as a Feather', ' Into the Dark', ' Light as a Feather', ' Light as a Feather', ' Light as a Feather', ' Light as a Feather', ' Light as a Feather', ' Light as a Feather', ' Light as a Feather', ' Light as a Feather', ' Light as a Feather', ' Into the Dark', ' Into the Dark', ' Shrill', ' Shrill', ' Light as a Feather', ' Light as a Feather', ' Light as a Feather', ' Light as a Feather', \" The Handmaid's Tale\", \" The Handmaid's Tale\", \" The Handmaid's Tale\", ' Light as a Feather', ' Light as a Feather', ' Light as a Feather', ' Light as a Feather', \" The Handmaid's Tale\", \" The Handmaid's Tale\", \" The Handmaid's Tale\", ' Light as a Feather', ' Light as a Feather', ' Light as a Feather', ' Light as a Feather', \" The Handmaid's Tale\", \" The Handmaid's Tale\", \" The Handmaid's Tale\", ' Light as a Feather', ' Light as a Feather', ' Light as a Feather', ' Light as a Feather', \" The Handmaid's Tale\", \" The Handmaid's Tale\", \" The Handmaid's Tale\", ' Light as a Feather', ' Light as a Feather', ' Light as a Feather', ' Light as a Feather', \" The Handmaid's Tale\", \" The Handmaid's Tale\", \" The Handmaid's Tale\", ' Light as a Feather', ' Light as a Feather', ' Light as a Feather', ' Light as a Feather', \" The Handmaid's Tale\", \" The Handmaid's Tale\", \" The Handmaid's Tale\", ' Light as a Feather', ' Light as a Feather', ' Light as a Feather', ' Light as a Feather', \" The Handmaid's Tale\", \" The Handmaid's Tale\", \" The Handmaid's Tale\", ' Light as a Feather', ' Light as a Feather', ' Light as a Feather', ' Light as a Feather', \" The Handmaid's Tale\", \" The Handmaid's Tale\", \" The Handmaid's Tale\", ' Light as a Feather', ' Light as a Feather', ' Light as a Feather', ' Light as a Feather', \" The Handmaid's Tale\", \" The Handmaid's Tale\", \" The Handmaid's Tale\", ' Light as a Feather', ' Light as a Feather', ' Light as a Feather', ' Light as a Feather', \" The Handmaid's Tale\", \" The Handmaid's Tale\", \" The Handmaid's Tale\", ' Light as a Feather', ' Light as a Feather', ' Light as a Feather', ' Light as a Feather', \" The Handmaid's Tale\", \" The Handmaid's Tale\", \" The Handmaid's Tale\", ' Light as a Feather', ' Light as a Feather', ' Light as a Feather', ' Light as a Feather', \" The Handmaid's Tale\", \" The Handmaid's Tale\", \" The Handmaid's Tale\"], 'rating': ['8.5', '8.5', '7.4', '8.7', '4.8', '7.8', '8.6', '8.1', '7.7', '8.1', '7.3', '7.9', '7.7', '8', '7.9', '8.7', '8.3', '7.6', '8', '6.5', '8', '7.8', '6.3', '7.7', '7.3', '7.8', '8.2', '7', '8.1', '7.4', '7.7', '7.2', '7.4', '5.7', '6.3', '7.5', '7.9', '7.3', '8', '7.2', '7.6', '6.9', '8.1', '6.8', '8.3', '7.8', '5', '7.8', '7.5', '7.3', '4', '8', '7.3', '7.4', '6.3', '8.2', '6.6', '7.5', '8.2', 'NULL', '5.4', '7.3', '6.7', 'NULL', 'NULL', '7.7', 'NULL', 'NULL', '6.7', 'NULL', '7.8', '7', '6.1', '5.9', '6.9', '7.6', '6.2', '7.9', '8.5', '4.2', '5.3', '6.6', '7.7', '7.7', '8.8', '7.3', '6.3', '7.5', '7.4', '7.4', '6.9', '6.3', '7', '7.4', '8.3', '5.9', '7.8', 'NULL', '8.1', '6.2', '6.6', '6.6', '3.9', '5.5', 'NULL', '6.7', 'NULL', '6.9', '7.1', '5.8', 'NULL', '8.3', '6.6', '7.5', '5.8', 'NULL', 'NULL', '4.1', '7.9', '6.3', '6.7', '6.3', '6.5', '4.7', '6', '7.7', 'NULL', '6.7', '6.1', '5.3', '6.3', '6.7', '2.5', '7.4', '7.3', 'NULL', '7.8', '6.8', '7.6', '7', 'NULL', '7.1', '7', '7.6', '6.5', 'NULL', 'NULL', '6.3', '6.6', '7.3', '7.6', '7.5', '8', 'NULL', 'NULL', 'NULL', 'NULL', 'NULL', 'NULL', 'NULL', 'NULL', 'NULL', 'NULL', '8.1', '8.6', '8.7', '9', '8.5', '8.7', '8.9', '8.8', '8.8', '9.1', 'NULL', '8.6', 'NULL', 'NULL', 'NULL', '7.2', 'NULL', 'NULL', '8.6', 'NULL', 'NULL', 'NULL', 'NULL', 'NULL', 'NULL', 'NULL', 'NULL', 'NULL', 'NULL', 'NULL', 'NULL', 'NULL', 'NULL', 'NULL', 'NULL', 'NULL', 'NULL', '8.3', '8.2', '8.1', 'NULL', 'NULL', 'NULL', 'NULL', 'NULL', 'NULL', 'NULL', 'NULL', 'NULL', 'NULL', 'NULL', 'NULL', 'NULL', 'NULL', 'NULL', 'NULL', 'NULL', 'NULL', 'NULL', 'NULL', 'NULL', 'NULL', 'NULL', 'NULL', 'NULL', 'NULL', 'NULL', 'NULL', 'NULL', 'NULL', 'NULL', 'NULL', 'NULL', 'NULL', 'NULL', 'NULL', 'NULL', 'NULL', 'NULL', 'NULL', 'NULL', 'NULL', 'NULL', 'NULL', 'NULL', 'NULL', 'NULL', 'NULL', 'NULL', 'NULL', '7.9', '7.8', '8', '8.1', 'NULL', 'NULL', 'NULL', 'NULL', 'NULL', 'NULL', 'NULL', 'NULL', 'NULL', 'NULL', 'NULL', 'NULL', 'NULL', 'NULL', 'NULL', 'NULL', 'NULL', 'NULL', 'NULL', 'NULL', 'NULL', 'NULL', 'NULL', 'NULL', 'NULL', 'NULL', 'NULL', 'NULL', 'NULL', 'NULL', 'NULL', '7.4', 'NULL', 'NULL', 'NULL', 'NULL', 'NULL', 'NULL', 'NULL', 'NULL', 'NULL', 'NULL', 'NULL', 'NULL', 'NULL', 'NULL', 'NULL', 'NULL', 'NULL', 'NULL', 'NULL', 'NULL', 'NULL', 'NULL', 'NULL', 'NULL', 'NULL', 'NULL', 'NULL', 'NULL', 'NULL', 'NULL', 'NULL', 'NULL', 'NULL', 'NULL', 'NULL', 'NULL', 'NULL', 'NULL', 'NULL', 'NULL', 'NULL', 'NULL', 'NULL', 'NULL', 'NULL', 'NULL', 'NULL', 'NULL', 'NULL', 'NULL', 'NULL', 'NULL', 'NULL', 'NULL', 'NULL', 'NULL', 'NULL', 'NULL', 'NULL', 'NULL', 'NULL', 'NULL', 'NULL', '8.5', '8.4', '8.4', 'NULL', 'NULL', 'NULL', 'NULL', 'NULL', 'NULL', 'NULL', 'NULL', 'NULL', 'NULL', 'NULL', 'NULL', 'NULL', 'NULL', 'NULL', 'NULL', 'NULL', 'NULL', 'NULL', 'NULL', 'NULL', 'NULL', 'NULL', 'NULL', 'NULL', 'NULL', 'NULL', 'NULL', 'NULL', 'NULL', 'NULL', 'NULL', 'NULL', 'NULL', 'NULL', 'NULL', 'NULL', 'NULL', 'NULL', 'NULL', 'NULL', 'NULL', 'NULL', 'NULL', 'NULL', 'NULL', 'NULL', 'NULL', 'NULL', 'NULL', 'NULL', 'NULL', 'NULL', 'NULL', 'NULL', 'NULL', 'NULL', 'NULL', 'NULL', 'NULL', 'NULL', 'NULL', 'NULL', 'NULL', '5', '7.9', 'NULL', 'NULL', 'NULL', 'NULL', 'NULL', 'NULL', 'NULL', 'NULL', 'NULL', 'NULL', 'NULL', 'NULL', 'NULL', 'NULL', 'NULL', 'NULL', 'NULL', 'NULL', 'NULL', 'NULL', 'NULL', 'NULL', 'NULL', 'NULL', 'NULL', 'NULL', 'NULL', '8', '8', 'NULL', '8', '8.8', '8.2', '8.5', '8.8', '7.4', '8.6', '8', '8.3', '7.6', '8.4', 'NULL', 'NULL', 'NULL', 'NULL', 'NULL', 'NULL', '8.8', '9', '7.6', 'NULL', 'NULL', '7.4', '6.7', '8.4', '7.6', '7.4', '7.4', '8.1', '7.6', '7.4', '7.9', '8', '8.4', '8.7', '6.2', '7.3', '6.5', 'NULL', 'NULL', 'NULL', '8.2', 'NULL', 'NULL', 'NULL', 'NULL', 'NULL', 'NULL', 'NULL', 'NULL', 'NULL', 'NULL', '6.9', '6.1', '7.3', '7.1', '7.2', '7.5', '7.4', '7.4', '7.5', '7.5', '7.2', '5.4', '5.7', '7.4', '7.5', '7.7', '7.7', '7.6', '7.6', '9.3', '8.2', '9.4', '7.7', '7.7', '7.6', '7.6', '9.3', '8.2', '9.4', '7.7', '7.7', '7.6', '7.6', '9.3', '8.2', '9.4', '7.7', '7.7', '7.6', '7.6', '9.3', '8.2', '9.4', '7.7', '7.7', '7.6', '7.6', '9.3', '8.2', '9.4', '7.7', '7.7', '7.6', '7.6', '9.3', '8.2', '9.4', '7.7', '7.7', '7.6', '7.6', '9.3', '8.2', '9.4', '7.7', '7.7', '7.6', '7.6', '9.3', '8.2', '9.4', '7.7', '7.7', '7.6', '7.6', '9.3', '8.2', '9.4', '7.7', '7.7', '7.6', '7.6', '9.3', '8.2', '9.4', '7.7', '7.7', '7.6', '7.6', '9.3', '8.2', '9.4', '7.7', '7.7', '7.6', '7.6', '9.3', '8.2', '9.4']}\n"
     ]
    }
   ],
   "source": [
    "#print(movie_dict)"
   ]
  },
  {
   "cell_type": "code",
   "execution_count": 24,
   "metadata": {},
   "outputs": [
    {
     "data": {
      "text/html": [
       "<div>\n",
       "<style scoped>\n",
       "    .dataframe tbody tr th:only-of-type {\n",
       "        vertical-align: middle;\n",
       "    }\n",
       "\n",
       "    .dataframe tbody tr th {\n",
       "        vertical-align: top;\n",
       "    }\n",
       "\n",
       "    .dataframe thead th {\n",
       "        text-align: right;\n",
       "    }\n",
       "</style>\n",
       "<table border=\"1\" class=\"dataframe\">\n",
       "  <thead>\n",
       "    <tr style=\"text-align: right;\">\n",
       "      <th></th>\n",
       "      <th>title</th>\n",
       "      <th>rating</th>\n",
       "    </tr>\n",
       "  </thead>\n",
       "  <tbody>\n",
       "    <tr>\n",
       "      <th>0</th>\n",
       "      <td>Community</td>\n",
       "      <td>8.5</td>\n",
       "    </tr>\n",
       "    <tr>\n",
       "      <th>1</th>\n",
       "      <td>The Handmaid's Tale</td>\n",
       "      <td>8.5</td>\n",
       "    </tr>\n",
       "    <tr>\n",
       "      <th>2</th>\n",
       "      <td>Palm Springs</td>\n",
       "      <td>7.4</td>\n",
       "    </tr>\n",
       "    <tr>\n",
       "      <th>3</th>\n",
       "      <td>Line of Duty</td>\n",
       "      <td>8.7</td>\n",
       "    </tr>\n",
       "    <tr>\n",
       "      <th>4</th>\n",
       "      <td>The Binge</td>\n",
       "      <td>4.8</td>\n",
       "    </tr>\n",
       "    <tr>\n",
       "      <th>...</th>\n",
       "      <td>...</td>\n",
       "      <td>...</td>\n",
       "    </tr>\n",
       "    <tr>\n",
       "      <th>930</th>\n",
       "      <td>Light as a Feather</td>\n",
       "      <td>7.6</td>\n",
       "    </tr>\n",
       "    <tr>\n",
       "      <th>931</th>\n",
       "      <td>Light as a Feather</td>\n",
       "      <td>7.6</td>\n",
       "    </tr>\n",
       "    <tr>\n",
       "      <th>932</th>\n",
       "      <td>The Handmaid's Tale</td>\n",
       "      <td>9.3</td>\n",
       "    </tr>\n",
       "    <tr>\n",
       "      <th>933</th>\n",
       "      <td>The Handmaid's Tale</td>\n",
       "      <td>8.2</td>\n",
       "    </tr>\n",
       "    <tr>\n",
       "      <th>934</th>\n",
       "      <td>The Handmaid's Tale</td>\n",
       "      <td>9.4</td>\n",
       "    </tr>\n",
       "  </tbody>\n",
       "</table>\n",
       "<p>935 rows × 2 columns</p>\n",
       "</div>"
      ],
      "text/plain": [
       "                    title rating\n",
       "0               Community    8.5\n",
       "1     The Handmaid's Tale    8.5\n",
       "2            Palm Springs    7.4\n",
       "3            Line of Duty    8.7\n",
       "4               The Binge    4.8\n",
       "..                    ...    ...\n",
       "930    Light as a Feather    7.6\n",
       "931    Light as a Feather    7.6\n",
       "932   The Handmaid's Tale    9.3\n",
       "933   The Handmaid's Tale    8.2\n",
       "934   The Handmaid's Tale    9.4\n",
       "\n",
       "[935 rows x 2 columns]"
      ]
     },
     "execution_count": 24,
     "metadata": {},
     "output_type": "execute_result"
    }
   ],
   "source": [
    "import pandas as pd\n",
    "raw=pd.DataFrame(movie_dict)\n",
    "raw"
   ]
  },
  {
   "cell_type": "code",
   "execution_count": 25,
   "metadata": {},
   "outputs": [],
   "source": [
    "df_dropna=raw.dropna()"
   ]
  },
  {
   "cell_type": "code",
   "execution_count": 26,
   "metadata": {},
   "outputs": [
    {
     "name": "stderr",
     "output_type": "stream",
     "text": [
      "/Users/xiaoyuezhu/anaconda3/envs/pythonData/lib/python3.7/site-packages/ipykernel_launcher.py:1: SettingWithCopyWarning: \n",
      "A value is trying to be set on a copy of a slice from a DataFrame.\n",
      "Try using .loc[row_indexer,col_indexer] = value instead\n",
      "\n",
      "See the caveats in the documentation: https://pandas.pydata.org/pandas-docs/stable/user_guide/indexing.html#returning-a-view-versus-a-copy\n",
      "  \"\"\"Entry point for launching an IPython kernel.\n"
     ]
    },
    {
     "data": {
      "text/plain": [
       "title      object\n",
       "rating    float64\n",
       "dtype: object"
      ]
     },
     "execution_count": 26,
     "metadata": {},
     "output_type": "execute_result"
    }
   ],
   "source": [
    "df_dropna['rating'] = df_dropna['rating'].astype(float)\n",
    "df_dropna.dtypes"
   ]
  },
  {
   "cell_type": "code",
   "execution_count": 27,
   "metadata": {},
   "outputs": [
    {
     "data": {
      "text/html": [
       "<div>\n",
       "<style scoped>\n",
       "    .dataframe tbody tr th:only-of-type {\n",
       "        vertical-align: middle;\n",
       "    }\n",
       "\n",
       "    .dataframe tbody tr th {\n",
       "        vertical-align: top;\n",
       "    }\n",
       "\n",
       "    .dataframe thead th {\n",
       "        text-align: right;\n",
       "    }\n",
       "</style>\n",
       "<table border=\"1\" class=\"dataframe\">\n",
       "  <thead>\n",
       "    <tr style=\"text-align: right;\">\n",
       "      <th></th>\n",
       "      <th>title</th>\n",
       "      <th>rating</th>\n",
       "    </tr>\n",
       "  </thead>\n",
       "  <tbody>\n",
       "    <tr>\n",
       "      <th>0</th>\n",
       "      <td>Community</td>\n",
       "      <td>8.5</td>\n",
       "    </tr>\n",
       "    <tr>\n",
       "      <th>1</th>\n",
       "      <td>The Handmaid's Tale</td>\n",
       "      <td>8.5</td>\n",
       "    </tr>\n",
       "    <tr>\n",
       "      <th>2</th>\n",
       "      <td>Palm Springs</td>\n",
       "      <td>7.4</td>\n",
       "    </tr>\n",
       "    <tr>\n",
       "      <th>3</th>\n",
       "      <td>Line of Duty</td>\n",
       "      <td>8.7</td>\n",
       "    </tr>\n",
       "    <tr>\n",
       "      <th>4</th>\n",
       "      <td>The Binge</td>\n",
       "      <td>4.8</td>\n",
       "    </tr>\n",
       "    <tr>\n",
       "      <th>...</th>\n",
       "      <td>...</td>\n",
       "      <td>...</td>\n",
       "    </tr>\n",
       "    <tr>\n",
       "      <th>930</th>\n",
       "      <td>Light as a Feather</td>\n",
       "      <td>7.6</td>\n",
       "    </tr>\n",
       "    <tr>\n",
       "      <th>931</th>\n",
       "      <td>Light as a Feather</td>\n",
       "      <td>7.6</td>\n",
       "    </tr>\n",
       "    <tr>\n",
       "      <th>932</th>\n",
       "      <td>The Handmaid's Tale</td>\n",
       "      <td>9.3</td>\n",
       "    </tr>\n",
       "    <tr>\n",
       "      <th>933</th>\n",
       "      <td>The Handmaid's Tale</td>\n",
       "      <td>8.2</td>\n",
       "    </tr>\n",
       "    <tr>\n",
       "      <th>934</th>\n",
       "      <td>The Handmaid's Tale</td>\n",
       "      <td>9.4</td>\n",
       "    </tr>\n",
       "  </tbody>\n",
       "</table>\n",
       "<p>606 rows × 2 columns</p>\n",
       "</div>"
      ],
      "text/plain": [
       "                    title  rating\n",
       "0               Community     8.5\n",
       "1     The Handmaid's Tale     8.5\n",
       "2            Palm Springs     7.4\n",
       "3            Line of Duty     8.7\n",
       "4               The Binge     4.8\n",
       "..                    ...     ...\n",
       "930    Light as a Feather     7.6\n",
       "931    Light as a Feather     7.6\n",
       "932   The Handmaid's Tale     9.3\n",
       "933   The Handmaid's Tale     8.2\n",
       "934   The Handmaid's Tale     9.4\n",
       "\n",
       "[606 rows x 2 columns]"
      ]
     },
     "execution_count": 27,
     "metadata": {},
     "output_type": "execute_result"
    }
   ],
   "source": [
    "df_dropna"
   ]
  },
  {
   "cell_type": "code",
   "execution_count": 28,
   "metadata": {},
   "outputs": [],
   "source": [
    "grouped_df=df_dropna.groupby('title')\n",
    "avg_rating=grouped_df['rating'].mean()"
   ]
  },
  {
   "cell_type": "code",
   "execution_count": 29,
   "metadata": {},
   "outputs": [
    {
     "data": {
      "text/plain": [
       "title\n",
       " 11.22.63                             8.371429\n",
       " Behind the Mask                      8.433333\n",
       " Butterfly                            6.833333\n",
       " Cardcaptor Sakura: Clear Card Arc    7.400000\n",
       " Castle Rock                          8.210000\n",
       "                                        ...   \n",
       "Wasted                                7.400000\n",
       "We Are Freestyle Love Supreme         6.600000\n",
       "Wounds                                4.000000\n",
       "Wu-Tang: An American Saga             8.200000\n",
       "Zomboat!                              6.900000\n",
       "Name: rating, Length: 165, dtype: float64"
      ]
     },
     "execution_count": 29,
     "metadata": {},
     "output_type": "execute_result"
    }
   ],
   "source": [
    "avg_rating"
   ]
  },
  {
   "cell_type": "code",
   "execution_count": 34,
   "metadata": {},
   "outputs": [],
   "source": [
    "hulurating_final=pd.DataFrame(avg_rating)\n",
    "hulurating_final=hulurating_final.reset_index('title')"
   ]
  },
  {
   "cell_type": "code",
   "execution_count": 35,
   "metadata": {},
   "outputs": [
    {
     "data": {
      "text/html": [
       "<div>\n",
       "<style scoped>\n",
       "    .dataframe tbody tr th:only-of-type {\n",
       "        vertical-align: middle;\n",
       "    }\n",
       "\n",
       "    .dataframe tbody tr th {\n",
       "        vertical-align: top;\n",
       "    }\n",
       "\n",
       "    .dataframe thead th {\n",
       "        text-align: right;\n",
       "    }\n",
       "</style>\n",
       "<table border=\"1\" class=\"dataframe\">\n",
       "  <thead>\n",
       "    <tr style=\"text-align: right;\">\n",
       "      <th></th>\n",
       "      <th>title</th>\n",
       "      <th>rating</th>\n",
       "    </tr>\n",
       "  </thead>\n",
       "  <tbody>\n",
       "    <tr>\n",
       "      <th>0</th>\n",
       "      <td>11.22.63</td>\n",
       "      <td>8.371429</td>\n",
       "    </tr>\n",
       "    <tr>\n",
       "      <th>1</th>\n",
       "      <td>Behind the Mask</td>\n",
       "      <td>8.433333</td>\n",
       "    </tr>\n",
       "    <tr>\n",
       "      <th>2</th>\n",
       "      <td>Butterfly</td>\n",
       "      <td>6.833333</td>\n",
       "    </tr>\n",
       "    <tr>\n",
       "      <th>3</th>\n",
       "      <td>Cardcaptor Sakura: Clear Card Arc</td>\n",
       "      <td>7.400000</td>\n",
       "    </tr>\n",
       "    <tr>\n",
       "      <th>4</th>\n",
       "      <td>Castle Rock</td>\n",
       "      <td>8.210000</td>\n",
       "    </tr>\n",
       "    <tr>\n",
       "      <th>...</th>\n",
       "      <td>...</td>\n",
       "      <td>...</td>\n",
       "    </tr>\n",
       "    <tr>\n",
       "      <th>160</th>\n",
       "      <td>Wasted</td>\n",
       "      <td>7.400000</td>\n",
       "    </tr>\n",
       "    <tr>\n",
       "      <th>161</th>\n",
       "      <td>We Are Freestyle Love Supreme</td>\n",
       "      <td>6.600000</td>\n",
       "    </tr>\n",
       "    <tr>\n",
       "      <th>162</th>\n",
       "      <td>Wounds</td>\n",
       "      <td>4.000000</td>\n",
       "    </tr>\n",
       "    <tr>\n",
       "      <th>163</th>\n",
       "      <td>Wu-Tang: An American Saga</td>\n",
       "      <td>8.200000</td>\n",
       "    </tr>\n",
       "    <tr>\n",
       "      <th>164</th>\n",
       "      <td>Zomboat!</td>\n",
       "      <td>6.900000</td>\n",
       "    </tr>\n",
       "  </tbody>\n",
       "</table>\n",
       "<p>165 rows × 2 columns</p>\n",
       "</div>"
      ],
      "text/plain": [
       "                                  title    rating\n",
       "0                              11.22.63  8.371429\n",
       "1                       Behind the Mask  8.433333\n",
       "2                             Butterfly  6.833333\n",
       "3     Cardcaptor Sakura: Clear Card Arc  7.400000\n",
       "4                           Castle Rock  8.210000\n",
       "..                                  ...       ...\n",
       "160                              Wasted  7.400000\n",
       "161       We Are Freestyle Love Supreme  6.600000\n",
       "162                              Wounds  4.000000\n",
       "163           Wu-Tang: An American Saga  8.200000\n",
       "164                            Zomboat!  6.900000\n",
       "\n",
       "[165 rows x 2 columns]"
      ]
     },
     "execution_count": 35,
     "metadata": {},
     "output_type": "execute_result"
    }
   ],
   "source": [
    "hulurating_final"
   ]
  },
  {
   "cell_type": "code",
   "execution_count": 41,
   "metadata": {},
   "outputs": [],
   "source": [
    "hulurating_final.to_csv('../Resources',index=False)"
   ]
  },
  {
   "cell_type": "code",
   "execution_count": null,
   "metadata": {},
   "outputs": [],
   "source": []
  }
 ],
 "metadata": {
  "kernelspec": {
   "display_name": "Python 3",
   "language": "python",
   "name": "python3"
  },
  "language_info": {
   "codemirror_mode": {
    "name": "ipython",
    "version": 3
   },
   "file_extension": ".py",
   "mimetype": "text/x-python",
   "name": "python",
   "nbconvert_exporter": "python",
   "pygments_lexer": "ipython3",
   "version": "3.7.6"
  }
 },
 "nbformat": 4,
 "nbformat_minor": 4
}
