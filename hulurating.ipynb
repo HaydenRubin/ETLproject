{
 "cells": [
  {
   "cell_type": "code",
   "execution_count": 5,
   "metadata": {},
   "outputs": [],
   "source": [
    "from splinter import Browser\n",
    "from bs4 import BeautifulSoup"
   ]
  },
  {
   "cell_type": "markdown",
   "metadata": {},
   "source": [
    "# Mac Users"
   ]
  },
  {
   "cell_type": "code",
   "execution_count": null,
   "metadata": {},
   "outputs": [],
   "source": [
    "# # https://splinter.readthedocs.io/en/latest/drivers/chrome.html\n",
    "# !which chromedriver"
   ]
  },
  {
   "cell_type": "code",
   "execution_count": null,
   "metadata": {},
   "outputs": [],
   "source": [
    "# /usr/local/bin/chromedriver"
   ]
  },
  {
   "cell_type": "code",
   "execution_count": null,
   "metadata": {},
   "outputs": [],
   "source": [
    "# executable_path = {'executable_path': '/usr/local/bin/chromedriver'}\n",
    "# browser = Browser('chrome', **executable_path, headless=False)"
   ]
  },
  {
   "cell_type": "markdown",
   "metadata": {},
   "source": [
    "# Windows"
   ]
  },
  {
   "cell_type": "code",
   "execution_count": 6,
   "metadata": {},
   "outputs": [],
   "source": [
    "executable_path = {'executable_path': 'chromedriver.exe'}\n",
    "browser = Browser('chrome', **executable_path, headless=False)"
   ]
  },
  {
   "cell_type": "code",
   "execution_count": 7,
   "metadata": {},
   "outputs": [],
   "source": [
    "url = 'https://www.imdb.com/search/title/?companies=co0218858'\n",
    "browser.visit(url)"
   ]
  },
  {
   "cell_type": "code",
   "execution_count": 12,
   "metadata": {},
   "outputs": [
    {
     "name": "stdout",
     "output_type": "stream",
     "text": [
      "Scraping Complete\n",
      "Scraping Complete\n",
      "Scraping Complete\n",
      "Scraping Complete\n",
      "Scraping Complete\n",
      "Scraping Complete\n",
      "Scraping Complete\n",
      "Scraping Complete\n",
      "Scraping Complete\n",
      "Scraping Complete\n",
      "Scraping Complete\n",
      "Scraping Complete\n",
      "Scraping Complete\n"
     ]
    }
   ],
   "source": [
    "movie_dict = {}\n",
    "for x in range(1, 50):\n",
    "\n",
    "    html = browser.html\n",
    "    soup = BeautifulSoup(html, 'html.parser')\n",
    "\n",
    "    articles = soup.find_all('div', class_='lister-item-content')\n",
    " \n",
    "    \n",
    "    for article in articles:\n",
    "        \n",
    "        # Use Beautiful Soup's find() method to navigate and retrieve attributes\n",
    "        h3 = article.find('h3')\n",
    "        title = h3.find('a').text\n",
    "        if \"title\" in movie_dict:\n",
    "            movie_dict[\"title\"].append(title)\n",
    "        else:\n",
    "            movie_dict[\"title\"] = [title]\n",
    "        \n",
    "        try:\n",
    "            rating_bar = article.find('div', class_='ratings-bar')\n",
    "            rating = rating_bar.find('div', class_='inline-block ratings-imdb-rating')['data-value']\n",
    "            if \"rating\" in movie_dict:\n",
    "                movie_dict[\"rating\"].append(rating)\n",
    "            else:\n",
    "                movie_dict[\"rating\"] = [rating]\n",
    "            \n",
    "        except:\n",
    "            movie_dict[\"rating\"].append(\"NULL\")\n",
    "        \n",
    "            \n",
    "        \n",
    "        \n",
    "    try:\n",
    "        browser.click_link_by_partial_text('Next')\n",
    "          \n",
    "    except:\n",
    "        print(\"Scraping Complete\")"
   ]
  },
  {
   "cell_type": "code",
   "execution_count": 14,
   "metadata": {},
   "outputs": [
    {
     "name": "stdout",
     "output_type": "stream",
     "text": [
      "{'title': ['Community', 'Palm Springs', \"The Handmaid's Tale\", 'Line of Duty', 'Little Fires Everywhere', 'Harlots', 'Normal People', 'The Great', 'Portrait of a Lady on Fire', 'Mrs. America', 'Devs', 'The Orville', 'Rocketman', 'The Golden Girls', 'Letterkenny', 'Veronica Mars', 'Castle Rock', 'The Act', 'Ramy', 'I Still Believe', 'Into the Dark', 'Love, Victor', 'Future Man', 'High Fidelity', 'King of the Hill', 'Runaways', '11.22.63', 'The Musketeers', 'PEN15', 'The Mindy Project', 'Cardinal', 'Das Boot', 'Terminator 3: Rise of the Machines', 'Woke', 'The Binge', 'Solar Opposites', 'Dollface', 'Pokémon', 'Waiting...', 'Brassic', 'Find Me in Paris', 'Looking for Alaska', 'Fantastic Four', 'Harrow', 'Reprisal', 'UglyDolls', 'Light as a Feather', 'Helstrom', 'UnREAL', 'Catch-22', 'Wounds', 'Little Monsters', 'Corpse Bride', 'Four Weddings and a Funeral', 'Kingpin', 'Shrill', 'Detroit', 'The Looming Tower', 'Wu-Tang: An American Saga', 'Kaguya-sama: Love is War', 'Casual', 'Crossing Swords', 'Nine Perfect Strangers', 'The First', 'Bad Hair', 'The Devil in the White City', 'The Path', 'Run', 'Chance', 'This Way Up', 'The Spy Next Door', 'Difficult People', 'Monsterland', 'The Way Home', 'Sailor Moon', 'Maxxx', 'Famous in Love', \"Dr. Horrible's Sing-Along Blog\", 'Minding the Gap', 'Deutschland 86', 'Undisputed', 'In Extremis', 'GameFace', 'Kingdom', 'Shut Eye', 'Sonic Boom', 'Hard Sun', 'Freakish', 'Deadbeat', 'Found', 'National Treasure', 'The Wrong Mans', 'Alone Together', 'Animaniacs', 'Chivalry of a Failed Knight', 'National Treasure: Kiri', 'Dimension 404', 'Joshy', 'The Booth at the End', 'Citizen Jane', 'The Hotwives of Orlando', 'Fair Haven', 'Zomboat!', 'Books of Blood', 'We Are Freestyle Love Supreme', 'The Bisexual', 'East Los High', 'Taste the Nation with Padma Lakshmi', 'Light Sleeper', 'Bees Make Honey', 'All Night', 'Little Bitches', 'Paranormal Calamity', 'Sailor Moon Crystal', 'The Hug', 'Butterfly', 'The Mysterious Benedict Society', 'The Beatles: Eight Days a Week - The Touring Years', 'Untouchable', 'Hillary', 'Safe Harbour', 'Infinite Stratos', 'Betch', 'A Cam Life', 'Holly Hobbie', 'WWE NXT', 'The Awesomes', 'Becoming Bond', 'Manhattan Love Story', '2020 Golden Globe Awards', 'Less Than Zero', 'Littlekenny', 'Only Murders in the Building', 'Endlings', 'Austin Found', 'Pocket Listing', 'Wasted', 'M.O.D.O.K.', 'The Amazing Johnathan Documentary', 'Quick Draw', 'Vacation Friends', 'The Hardy Boys', 'Dopesick', 'Fyre Fraud', 'The Hotwives of Las Vegas', 'Conversations with Friends', '\"The Sister\"', 'The House: A Hulu Halloween Anthology', 'Vyzhit posle', 'Awaiting', 'Pokémon Origins', 'Madagascar: A Little Wild', 'The Confession', 'Tiger Raid', \"No Man's Land\", 'The Dropout', 'Ask Dr. Ruth', 'Under the Bed', 'Jawline', \"Susie's Hope\", 'The LXD: The Legion of Extraordinary Dancers', 'Chicago Overcoat', 'Himouto! Umaru-chan', 'And We Go Green', 'Hillbilly', 'Girlfriends of Christmas Past', 'Locke & Key', 'Welcome to the Family', 'The Other Typist', 'Animals', 'The Girl from Plainville', 'Greta', 'Search and Destroy', 'In Search of Greatness', 'The Bravest Knight', 'The Ultimate Playlist of Noise', 'We Are Columbine', 'March of the Penguins 2: The Next Step', 'Love, Beth', 'Mother Up!', 'Vexille', 'TrollsTopia', 'American Bully', 'How to Train Your Dragon: Snoggletog Log', 'Too Funny to Fail: The Life & Death of The Dana Carvey Show', 'Devilish Charm', 'Hollywood & Wine', 'South Beach', 'My Trip Back to the Dark Side', 'The Warriors', 'The Weekly', 'Up to Speed', 'Discreet', 'Crime + Punishment', 'The Eyes of the Dragon', 'Batman & Bill', 'The New York Times Presents', 'After Parkland', 'Battleground', 'RocketJump: The Show', 'Fishbowl California', 'Lippy', 'Alien Psychosis', 'The 60 Yard Line', 'The 69th Primetime Emmy Awards', 'Ghost Image', 'The Rizzle', 'This Is Meg', 'What Lives Inside', 'Future Card Buddyfight', 'Last Will', '2nd Serve', 'Jamie: Keep Cooking and Carry On', 'Untitled Chris Pine/Hulu RFK Project', 'The Family', 'WTF, Baron Davis', 'Holy Ghost People', 'Hitman', 'Taylor Swift: City of Lover Concert', 'The Box', \"The Hitchhiker's Guide to the Galaxy\", 'Flagged', 'The Gillymuck', 'The Untitled Josh Brolin Project', 'Unbanned: The Legend of AJ1', 'An Act of War', 'Complete Works', 'A Christmas Tree Miracle', 'Live at the Foxes Den', 'Saturday Night', 'Twenty Twenty-Four', 'Boots on the Ground', 'Beyond the Grave', 'The Millennium Bug', 'Fatal Call', 'Ballet Now', 'Gigi: Almost American', 'Hidden Mother', 'The Summoning', \"I Wanna Marry 'Harry'\", 'We Will Rock You', 'Flip Flappers', 'Carved', 'Gilbert', 'Unspeakable', 'Tiny Shoulders, Rethinking Barbie', \"Eater's Guide to the World\", 'Doozers', 'Seance: The Summoning', 'VICE Investigates', 'Ride', 'WWE Superstars', 'The Mighty Ones', 'Ashes', 'The Morning After', 'Halloween video of the Selfie cast (Karen Gillan and John Cho dressed up as Power Rangers)', 'Small Business Revolution: Main Street', 'Obey Giant', 'Get Ace', 'Undo', 'Swiped to Death', 'A Day in the Life', 'Kansas City', 'The Drunk', 'Citizen', 'Binti', 'Defining Moments with OZY', 'Rockabilly Zombie Weekend', 'Dawn', 'Matt Damon Goes on Strike!', 'Door No. 1', \"Kid's Town\", 'Uglydolls', \"Triumph's Election Watch 2016\", \"Jillian's Mystery Craft Box by pocket.watch\", 'Hit Monkey', 'One Night', 'Spoilers with Kevin Smith', 'Los Cowboys', 'Foxy Brown', 'Behind the Mask', 'Ancient Aliens and the New World Order', 'Josh Blue : Delete', 'The Wangs vs The World', 'Haunted, Horrifying Sounds from Beyond the Grave', 'Horror Hotel: The Webseries', 'Washington Black', 'Book Club', 'Fake It Til You Make It', 'Ace of Spades', 'Around The Way', 'Lucha Libre USA: Masked Warriors', 'Ballet After Dark', 'Mexican Gothic', 'Girls Beyond the Wasteland', 'Base', 'Hit TV: The Prologue', 'Rodham', 'Art of the Game: Ukiyo-e Heroes', 'Michelangelo', 'The Holdout', 'Carpet Bros', 'Teenage Mountain Lion', 'Anjelah Johnson: Mahalo & Good Night', 'Summer Sisters', 'Simultaneous', \"Forgive - Don't Forget\", '.hack//Quantum: Walking Party', 'The Ripper', 'Johnny Appleweed', \"They're Real and They're Spectacular: Seinfeld Super Fans & the Summer of George\", 'The 4 to 9ers: The Day Crew', 'Paul the Male Matchmaker', 'Stand Up to Cancer', 'Untitled Steve Martin/Martin Short/Hulu Project', 'Sugar', 'Hollywood East', 'Peace', 'Ladies Night Out', 'Imagine a Moon Colony', 'Tender Is the Night', 'Crossfire: The Plot That Killed Kennedy', 'World War Something', 'Hit', 'Sound Advice', 'Exile by Choice', 'Design for All', 'The 4 to 9ers', 'Curse of the Crimson Mask', 'Sleepless Nights', 'LA Woman', 'Blackbird', 'The Small Assassin', \"America's Greatest Otaku\", \"Jessie's Dad\", 'The Cheerleader Diaries', 'Virtually Mike and Nora', \"Don't Know Jack\", 'First World', 'Jimmy Dore: Sentenced To Live', 'Saving Lives', 'Rock Chanel', 'Returning Citizens', 'The Here and Now', 'The Clinic', 'Take Off! With the Savvy Stews', 'One Million Steps', \"Sarah Colonna: I Can't Feel My Legs\", 'Invisible Man', 'Taisho Baseball Girls', 'Untitled Elin Hilderbrand Hulu Series', 'My Butt', 'Bitches', \"Killer Sisters' Midnight Hour\", 'Kaz: Pushing the Virtual Divide', 'Traces of Home', 'Can I Steal You for a Second?', 'Untitled Figure Skating Project', 'The Legacy', 'In Theory', 'Demons', 'Untitled Colony Thriller', 'Bogus Beauty', 'Los Feliz Daycare', 'Obicera One', 'Bon Appetit Kids Try 100 Years of Health Foods', 'Money Where Your Mouth Is', 'Wrong Package', 'Focus Rally America', 'The Model Idea', 'Defining Moments', 'My Side of the Sky', \"Hulu Commercial ('Seinfeld on Hulu')\", 'In the Darkness', 'Bon Appétit: Kids Try Brown Bag Lunches from 1900 to 2000', 'Player vs. Player', 'ESL: Replay', 'ESL Bootcamp: Immortals', 'Dear Shane', 'HuluDatr', 'Price the Hype', 'Date Breakers', 'Postal', 'Manga Motion Comics', 'NBC News Time Capsule', 'A Cry for Help: The Ajane Burt Story', 'Austin City Limits Music Festival', 'Graffiti Verité 9: Soulful Ways - The DJ', 'Elite New Face', \"Everthing's for Sale\", 'Wine Oh TV', 'On Stage', 'Killer/Hope: Live at Sundance', 'The Roommates', 'The Big Picture: News in Virtual Reality', 'Panna Origins', 'Tres Fridas', 'From a Dream to Dubai', 'Purrfect: A Dating Site for Cats', 'Direction', 'The Driver', 'Ted Sampon: Househusband', 'NYCMusicShow', 'Fight for a Fallen Brother', 'Cradle to Jail', ' Vertiges', ' Sailor Moon', ' Sailor Moon', ' L.A. Heat', ' L.A. Heat', ' L.A. Heat', ' L.A. Heat', ' L.A. Heat', ' L.A. Heat', ' L.A. Heat', ' L.A. Heat', ' L.A. Heat', ' L.A. Heat', ' L.A. Heat', ' L.A. Heat', ' L.A. Heat', ' L.A. Heat', ' L.A. Heat', ' L.A. Heat', ' L.A. Heat', ' L.A. Heat', ' L.A. Heat', ' L.A. Heat', ' L.A. Heat', ' L.A. Heat', ' L.A. Heat', ' L.A. Heat', ' L.A. Heat', ' L.A. Heat', ' L.A. Heat', ' L.A. Heat', ' L.A. Heat', ' L.A. Heat', ' L.A. Heat', ' L.A. Heat', ' L.A. Heat', ' L.A. Heat', ' L.A. Heat', ' L.A. Heat', ' L.A. Heat', ' L.A. Heat', ' L.A. Heat', ' L.A. Heat', ' L.A. Heat', ' L.A. Heat', ' L.A. Heat', ' L.A. Heat', ' L.A. Heat', ' L.A. Heat', ' L.A. Heat', ' L.A. Heat', ' Malcolm in the Middle', ' My Little Pony: Friendship Is Magic', ' My Little Pony: Friendship Is Magic', ' My Little Pony: Friendship Is Magic', ' My Little Pony: Friendship Is Magic', ' My Little Pony: Friendship Is Magic', ' My Little Pony: Friendship Is Magic', ' My Little Pony: Friendship Is Magic', ' My Little Pony: Friendship Is Magic', ' My Little Pony: Friendship Is Magic', ' My Little Pony: Friendship Is Magic', ' My Little Pony: Friendship Is Magic', ' Shrill', ' Shrill', ' Shrill', ' Shrill', ' Shrill', ' Shrill', ' Shrill', ' Shrill', ' Little Fires Everywhere', ' Little Fires Everywhere', ' Little Fires Everywhere', ' Little Fires Everywhere', ' Little Fires Everywhere', ' Little Fires Everywhere', ' Little Fires Everywhere', ' Little Fires Everywhere', ' ET Canada Live', ' The Orville', ' Nine Perfect Strangers', ' Into the Dark', ' Into the Dark', ' Into the Dark', ' Endlings', ' Endlings', ' Endlings', ' Endlings', ' Endlings', ' Endlings', ' Endlings', ' Endlings', ' Endlings', ' Endlings', ' Endlings', ' Endlings', ' Monsterland', ' Monsterland', ' Monsterland', ' Monsterland', ' Into the Dark', ' Into the Dark', ' Tender Is the Night', ' Into the Dark', ' Into the Dark', ' Into the Dark', ' Into the Dark', ' Into the Dark', ' Jamie: Keep Cooking and Carry On', ' SportsCenter', ' 2020 NFL Draft', ' 2020 NFL Draft', ' SportsCenter', ' SportsCenter', ' NFL Live', ' NFL Live', ' NFL Live', ' NFL Live', ' SportsCenter', ' NFL Live', ' NFL Live', ' NFL Live', ' SportsCenter', ' SportsCenter', ' SportsCenter', ' Dopesick', ' Dopesick', ' Dopesick', ' Dopesick', ' Dopesick', ' Dopesick', ' Dopesick', ' Dopesick', ' Nine Perfect Strangers', ' Nine Perfect Strangers', ' Nine Perfect Strangers', ' Nine Perfect Strangers', ' Nine Perfect Strangers', ' ESPN First Take', ' ESPN Major League Baseball', ' Nine Perfect Strangers', ' Nine Perfect Strangers', ' Black-ish', \"A Woman's Place: The Butcher, the Chef and the Restaurateur\", ' Blue Dragon', ' Fairy Tail', ' Fairy Tail', ' Hollywood East', ' Hollywood East', ' Hollywood East', ' Hollywood East', ' Hollywood East', ' Hollywood East', ' Hollywood East', ' Hollywood East', ' Hollywood East', ' Hollywood East', ' The Confession', ' The Confession', ' The Confession', ' The Confession', ' The Confession', ' The Confession', ' The Confession', ' The Confession', ' The Confession', ' The Confession', ' Workshop', ' Workshop', ' The Morning After', ' Workshop', ' Workshop', ' Toriko', ' Workshop', ' Workshop', ' Awake', ' The Morning After', ' The Morning After', ' The Morning After', ' The Morning After', ' The Morning After', ' The Morning After', ' The Morning After', ' Zapiski ekspeditora Taynoy kantselyarii', ' Zapiski ekspeditora Taynoy kantselyarii', ' Zapiski ekspeditora Taynoy kantselyarii', ' Zapiski ekspeditora Taynoy kantselyarii', ' Zapiski ekspeditora Taynoy kantselyarii', ' Zapiski ekspeditora Taynoy kantselyarii', ' Zapiski ekspeditora Taynoy kantselyarii', ' Zapiski ekspeditora Taynoy kantselyarii', ' The Morning After', ' The Morning After', ' The Morning After', ' The Morning After', ' The Morning After', ' The Morning After', ' The Morning After', ' The Morning After', ' Tiger & Bunny', ' Tiger & Bunny', ' Tiger & Bunny', ' The Morning After', ' The Morning After', ' The Morning After', ' The Morning After', ' The Morning After', ' The Morning After', ' The Morning After', ' The Morning After', ' The Morning After', ' The Morning After', ' The Morning After', ' The Morning After', ' The Morning After', ' The Morning After', ' The Morning After', ' The Morning After', ' The Morning After', ' The Morning After', ' The Morning After', ' The Morning After', ' The Morning After', ' The Morning After', ' The Morning After', ' The Morning After', ' The Morning After', ' The Morning After', ' The Morning After', ' The Morning After', ' Zapiski ekspeditora Taynoy kantselyarii', ' Zapiski ekspeditora Taynoy kantselyarii', ' Zapiski ekspeditora Taynoy kantselyarii', ' Zapiski ekspeditora Taynoy kantselyarii', ' Zapiski ekspeditora Taynoy kantselyarii', ' Zapiski ekspeditora Taynoy kantselyarii', ' Zapiski ekspeditora Taynoy kantselyarii', ' Zapiski ekspeditora Taynoy kantselyarii', ' The Morning After', ' The Morning After', ' The Morning After', ' The Morning After', ' The Morning After', ' The Morning After', ' The Morning After', ' The Morning After', ' The Morning After', ' The Morning After', ' The Morning After', ' The Morning After', ' The Morning After', ' The Morning After', ' The Morning After', ' The Morning After', ' The Morning After', ' The Morning After', ' The Morning After', ' The Morning After', ' The Morning After', ' The Morning After', ' The Morning After', ' The Morning After', ' The Morning After', ' The Morning After', ' The Morning After', ' The Morning After', ' The Morning After', ' The Morning After', ' The Morning After', ' The Morning After', ' The Morning After', ' The Morning After', ' The Morning After', ' The Morning After', ' The Morning After', ' The Morning After', ' The Morning After', ' The Morning After', ' The Morning After', ' The Morning After', ' The Morning After', ' The Morning After', ' The Morning After', ' The Morning After', ' The Morning After', ' The Morning After', ' The Morning After', ' The Morning After', ' The Morning After', ' The Morning After', ' The Morning After', ' The Morning After', ' The Morning After', ' The Morning After', ' The Morning After', ' The Morning After', ' The Morning After', ' The Morning After', ' The Morning After', ' The Morning After', ' The Morning After', ' The Morning After', ' The Morning After', ' The Morning After', ' The Morning After', ' The Morning After', ' The Morning After', ' The Morning After', ' The Morning After', ' The Morning After', ' The Morning After', ' The Morning After', ' The Morning After', ' The Morning After', ' The Morning After', ' The Morning After', ' The Morning After', ' The Morning After', ' The Morning After', ' The Morning After', ' The Morning After', ' The Morning After', ' The Morning After', ' The Morning After', ' The Morning After', ' The Morning After', ' The Morning After', ' The Morning After', ' The Morning After', ' The Morning After', ' The Morning After', ' The Morning After', ' The Morning After', ' The Morning After', ' The Morning After', ' The Morning After', ' The Morning After', ' The Morning After', ' The Morning After', ' The Morning After', ' The Morning After', ' The Morning After', ' The Morning After', ' The Morning After', ' The Morning After', ' The Morning After', ' The Morning After', ' The Morning After', ' The Morning After', ' The Morning After', ' The Morning After', ' The Morning After', ' The Morning After', ' The Morning After', ' The Morning After', ' The Morning After', ' The Morning After', ' The Morning After', ' The Morning After', ' The Morning After', ' The Morning After', ' The Morning After', ' The Morning After', ' The Morning After', ' The Morning After', ' The Morning After', ' The Morning After', ' The Morning After', ' The Morning After', ' The Morning After', ' The Morning After', ' The Morning After', ' The Morning After', ' The Morning After', ' The Morning After', ' The Morning After', ' East Los High', ' East Los High', ' East Los High', ' East Los High', ' East Los High', ' East Los High', ' East Los High', ' East Los High', ' East Los High', ' East Los High', ' East Los High', ' East Los High', ' East Los High', ' East Los High', ' East Los High', ' East Los High', ' East Los High', ' East Los High', ' East Los High', ' East Los High', ' East Los High', ' East Los High', ' East Los High', ' East Los High', ' East Los High', ' East Los High', ' The Morning After', ' The Morning After', ' The Morning After', ' The Morning After', ' The Morning After', ' The Morning After', ' The Morning After', ' The Morning After', ' The Morning After', ' The Morning After', ' Line of Duty', ' The Morning After', ' The Morning After', ' The Morning After', ' The Morning After', ' The Morning After', ' The Morning After', ' The Morning After', ' The Morning After', ' The Morning After', ' Zero Hour', ' The Morning After', ' The Morning After', ' The Morning After', ' The Morning After', ' The Morning After', ' The Morning After', ' The Morning After', ' The Morning After', ' The Morning After', ' The Morning After', ' The Morning After', ' The Morning After', ' The Morning After', ' The Morning After', ' The Morning After', ' Line of Duty', ' The Morning After', ' The Morning After', ' The Morning After', ' The Morning After', ' The Morning After', ' Line of Duty', ' Line of Duty', ' Line of Duty', ' The Morning After', ' The Morning After', ' The Morning After', ' The Morning After', ' The Morning After', ' The Morning After', ' The Morning After', ' The Morning After', ' The Morning After', ' The Morning After', ' The Morning After', ' The Morning After', ' The Morning After', ' The Morning After', ' The Morning After', ' The Morning After', ' The Morning After', ' The Morning After', ' The Morning After', ' The Morning After', ' The Morning After', ' The Morning After', ' The Morning After', ' The Morning After', ' The Morning After', ' The Morning After', ' The Morning After', ' The Morning After', ' The Morning After', ' The Morning After', ' The Morning After', ' The Morning After', ' The Morning After', ' The Morning After', ' The Morning After', ' The Morning After', ' The Morning After', ' The Morning After', ' The Morning After', ' The Morning After', ' The Morning After', ' The Morning After', ' The Morning After', ' The Morning After', ' The Morning After', ' The Morning After', ' The Morning After', ' The Morning After', ' The Morning After', ' The Morning After', ' The Morning After', ' The Morning After', ' The Morning After', ' The Morning After', ' The Morning After', ' The Morning After', ' The Morning After', ' The Morning After', ' The Morning After', ' The Morning After', ' The Morning After', ' The Morning After', ' The Morning After', ' The Morning After', ' The Morning After', ' The Morning After', ' The Morning After', ' The Morning After', ' The Morning After', ' The Morning After', ' The Morning After', ' The Morning After', ' The Morning After', ' The Morning After', ' The Morning After', ' The Morning After', ' The Morning After', ' The Morning After', ' The Morning After', ' The Morning After', ' The Morning After', ' The Morning After', ' The Morning After', ' The Morning After', ' The Morning After', ' The Morning After', ' The Morning After', ' The Morning After', ' The Morning After', ' The Morning After', ' The Morning After', ' The Morning After', ' The Morning After', ' The Morning After', ' The Morning After', ' The Morning After', ' The Morning After', ' The Morning After', ' The Morning After', ' The Morning After', ' The Morning After', ' The Morning After', ' The Morning After', ' The Morning After', ' The Morning After', ' The Morning After', ' The Morning After', ' The Morning After', ' The Morning After', ' The Morning After', ' The Morning After', ' The Morning After', ' The Morning After', ' The Morning After', ' The Morning After', ' The Morning After', ' The Morning After', ' The Morning After', ' The Morning After', ' The Morning After', ' The Morning After', ' The Morning After', ' The Morning After', ' The Morning After', ' The Morning After', ' The Morning After', ' The Morning After', ' The Morning After', ' The Morning After', ' The Morning After', ' The Morning After', ' The Morning After', ' The Morning After', ' The Morning After', ' The Morning After', ' The Morning After', ' The Morning After', ' The Morning After', ' The Morning After', ' The Morning After', ' Camp Woodward', ' Camp Woodward', ' Camp Woodward', ' Camp Woodward', ' Camp Woodward', ' Camp Woodward', ' Camp Woodward', ' Camp Woodward', ' The Morning After', ' The Morning After', ' The Morning After', ' The Morning After', ' The Morning After', ' The Morning After', ' The Morning After', ' The Morning After', ' The Morning After', ' The Morning After', ' The Morning After', ' The Morning After', ' The Morning After', ' The Morning After', ' The Morning After', ' The Morning After', ' The Morning After', ' The Morning After', ' The Morning After', ' The Morning After', ' The Morning After', ' The Morning After', ' The Morning After', ' The Morning After', ' The Morning After', ' The Morning After', ' The Morning After', ' The Morning After', ' The Morning After', ' The Morning After', ' It Could Be Worse', ' It Could Be Worse', ' It Could Be Worse', ' It Could Be Worse', ' It Could Be Worse', ' It Could Be Worse', ' It Could Be Worse', ' It Could Be Worse', ' It Could Be Worse', ' It Could Be Worse', ' It Could Be Worse', ' The Awesomes', ' The Morning After', ' The Morning After', ' The Morning After', ' The Morning After', ' The Morning After', ' The Morning After', ' The Morning After', ' The Morning After', ' The Morning After', ' The Morning After', ' It Could Be Worse', ' The Wrong Mans', ' The Wrong Mans', ' It Could Be Worse', ' Web Therapy', ' Web Therapy', ' Web Therapy', ' Web Therapy', ' Web Therapy', ' Web Therapy', ' Web Therapy', ' Web Therapy', ' Web Therapy', ' Web Therapy', ' Web Therapy', ' Web Therapy', ' Web Therapy', ' Web Therapy', ' Web Therapy', ' Web Therapy', ' Web Therapy', ' Web Therapy', ' Web Therapy', ' Web Therapy', ' Web Therapy', ' Web Therapy', ' Web Therapy', ' Web Therapy', ' Web Therapy', ' Web Therapy', ' Web Therapy', ' Web Therapy', ' Web Therapy', ' Web Therapy', ' Web Therapy', ' Web Therapy', ' Web Therapy', ' Web Therapy', ' Web Therapy', ' The Morning After', ' The Morning After', ' The Morning After', ' The Morning After', ' The Morning After', ' The Morning After', ' The Morning After', ' The Morning After', ' The Morning After', ' The Morning After', ' Welcome to the Family', ' It Could Be Worse', ' Quicklaffs', ' Quicklaffs', ' Quicklaffs', ' Quicklaffs', ' Quicklaffs', ' Quicklaffs', ' Quicklaffs', ' Quicklaffs', ' Quicklaffs', ' Quicklaffs', ' Quicklaffs', ' It Could Be Worse', ' The Morning After', ' The Morning After', ' The Morning After', ' The Morning After', ' The Morning After', ' The Morning After', ' The Morning After', ' The Morning After', ' The Morning After', ' The Morning After', ' The Morning After', ' The Morning After', ' Quicklaffs', ' Quicklaffs', ' Quicklaffs', ' Quicklaffs', ' Quicklaffs', ' Quicklaffs', ' Quicklaffs', ' Quicklaffs', ' Quicklaffs', ' Quicklaffs', ' Quicklaffs', ' Quicklaffs', ' Quicklaffs', ' Quicklaffs', ' Quicklaffs', ' Quicklaffs', ' Quicklaffs', ' Quicklaffs', ' Quicklaffs', ' Quicklaffs', ' Quicklaffs', ' Quicklaffs', ' Quicklaffs', ' Quicklaffs', ' Quicklaffs', ' The Wrong Mans', ' The Wrong Mans', ' The Wrong Mans', ' The Wrong Mans', ' The Morning After', ' The Morning After', ' The Morning After', ' The Morning After', ' The Morning After', ' The Morning After', ' The Morning After', ' The Morning After', ' The Morning After', ' The Morning After', ' The Morning After', ' The Morning After', ' The Morning After', ' The Morning After', ' The Morning After', ' The Morning After', ' The Morning After', ' The Morning After', ' The Morning After', ' The Morning After', ' The Morning After', ' The Morning After', ' The Morning After', ' The Morning After', ' The Morning After', ' The Morning After', ' The Morning After', ' The Morning After', ' The Morning After', ' The Morning After', ' East Los High', ' The Awesomes', ' The Morning After', ' The Morning After', ' The Morning After', ' The Morning After', ' The Morning After', ' The Morning After', ' The Morning After', ' The Morning After', ' The Morning After', ' The Morning After', ' The Morning After', ' The Morning After', ' The Morning After', ' The Morning After', ' The Morning After', ' The Morning After', ' The Morning After', ' The Morning After', ' The Morning After', ' The Morning After', ' The Morning After', ' The Morning After', ' The Morning After', ' The Morning After', ' The Morning After', ' The Morning After', ' The Morning After', ' The Morning After', ' The Morning After', ' The Awesomes', ' The Awesomes', ' The Awesomes', ' The Awesomes', ' The Awesomes', ' The Awesomes', ' The Awesomes', ' The Awesomes', ' The Morning After', ' The Morning After', ' The Morning After', ' The Morning After', ' The Morning After', ' The Morning After', ' The Morning After', ' The Morning After', ' The Morning After', ' The Morning After', ' The Morning After', ' The Morning After', ' The Morning After', ' The Morning After', ' The Morning After', ' The Morning After', ' The Morning After', ' The Morning After', ' The Morning After', ' The Morning After', ' The Morning After', ' The Morning After', ' The Morning After', ' The Morning After', ' The Morning After', ' The Morning After', ' The Morning After', ' The Morning After', ' The Morning After', ' The Morning After', ' The Morning After', ' The Morning After', ' The Morning After', ' The Morning After', ' The Morning After', ' The Morning After', ' The Morning After', ' The Morning After', ' The Morning After', ' The Morning After', ' The Morning After', ' The Morning After', ' The Morning After', ' The Morning After', ' The Morning After', ' The Morning After', ' The Morning After', ' The Morning After', ' The Morning After', ' The Morning After', ' The Morning After', ' The Morning After', ' The Morning After', ' The Morning After', ' The Morning After', ' The Morning After', ' The Morning After', ' The Morning After', ' Behind the Mask', ' Behind the Mask', ' Behind the Mask', ' Behind the Mask', ' Behind the Mask', ' Behind the Mask', ' Behind the Mask', ' Behind the Mask', ' Behind the Mask', ' Behind the Mask', ' The Morning After', ' The Morning After', ' The Morning After', ' The Morning After', ' The Morning After', ' The Morning After', ' The Morning After', ' The Morning After', ' The Morning After', ' The Morning After', ' The Morning After', ' The Morning After', ' The Morning After', ' The Morning After', ' The Morning After', ' The Morning After', ' The Morning After', ' The Morning After', ' The Morning After', ' The Morning After', ' The Morning After', ' The Morning After', ' The Morning After', ' The Morning After', ' The Morning After', ' The Morning After', ' The Morning After', ' The Morning After', ' The Morning After', ' The Morning After', ' The Morning After', ' The Morning After', ' The Morning After', ' The Morning After', ' The Morning After', ' The Morning After', ' The Morning After', ' The Morning After', ' The Morning After', ' The Morning After', ' Direction', ' Direction', ' Direction', ' Direction', ' Direction', ' The Morning After', ' The Morning After', ' The Morning After', ' The Morning After', ' The Morning After', ' The Morning After', ' The Morning After', ' The Morning After', ' The Morning After', ' The Morning After', ' The Morning After', ' The Morning After', ' The Morning After', ' The Morning After', ' The Morning After', ' The Morning After', ' The Morning After', ' The Morning After', ' The Morning After', ' It Could Be Worse', ' It Could Be Worse', ' The Morning After', ' The Morning After', ' The Morning After', ' The Morning After', ' The Morning After', ' The Morning After', ' The Morning After', ' The Morning After', ' The Morning After', ' The Morning After', ' The Morning After', ' It Could Be Worse', ' It Could Be Worse', \" I Wanna Marry 'Harry'\", ' East Los High', ' The Morning After', ' The Morning After', ' The Morning After', ' The Morning After', ' The Morning After', ' The Morning After', ' The Morning After', ' The Morning After', ' The Morning After', ' The Morning After', ' The Morning After', ' The Morning After', ' The Morning After', ' The Morning After', ' The Morning After', ' The Morning After', ' The Morning After', ' The Morning After', ' The Morning After', ' Game Talk Live', \" I Wanna Marry 'Harry'\", \" I Wanna Marry 'Harry'\", \" I Wanna Marry 'Harry'\", \" I Wanna Marry 'Harry'\", \" I Wanna Marry 'Harry'\", \" I Wanna Marry 'Harry'\", \" I Wanna Marry 'Harry'\", ' Sailor Moon Crystal', ' East Los High', ' The Morning After', ' The Morning After', ' The Morning After', ' The Morning After', ' The Morning After', ' The Morning After', ' The Morning After', ' The Morning After', ' The Morning After', ' The Morning After', ' The Morning After', ' The Morning After', ' The Morning After', ' The Morning After', ' The Morning After', ' The Morning After', ' The Morning After', ' The Morning After', ' The Morning After', ' The Morning After', ' The Morning After', ' The Morning After', ' The Morning After', ' The Morning After', ' The Morning After', ' The Morning After', ' East Los High', ' East Los High', ' East Los High', ' East Los High', ' East Los High', ' East Los High', ' East Los High', ' East Los High', ' East Los High', ' East Los High', ' Sailor Moon Crystal', ' Sailor Moon Crystal', ' Sailor Moon Crystal', ' Sailor Moon Crystal', ' East Los High', ' East Los High', ' East Los High', ' East Los High', ' East Los High', ' East Los High', ' Sailor Moon Crystal', ' Sailor Moon Crystal', ' Sailor Moon Crystal', ' Sailor Moon Crystal', ' Sailor Moon Crystal', ' Sailor Moon Crystal', ' Sailor Moon Crystal', ' Sailor Moon Crystal', ' East Los High', ' The Wrong Mans', ' The Wrong Mans', ' The Wrong Mans', ' Sailor Moon Crystal', ' Sailor Moon Crystal', ' Sailor Moon Crystal', ' Sailor Moon Crystal', ' Sailor Moon Crystal', ' Sailor Moon Crystal', ' Sailor Moon Crystal', ' Sailor Moon Crystal', ' Sailor Moon Crystal', ' Sailor Moon Crystal', ' Sailor Moon Crystal', ' Sailor Moon Crystal', ' Sailor Moon Crystal', ' The Wrong Mans', ' The Musketeers', ' 11.22.63', ' Net_Work', ' Net_Work', ' Net_Work', ' Net_Work', ' Behind the Mask', ' Behind the Mask', ' Behind the Mask', ' Behind the Mask', ' Behind the Mask', ' Behind the Mask', ' Behind the Mask', ' Behind the Mask', ' Behind the Mask', ' Behind the Mask', ' 11.22.63', ' East Los High', ' East Los High', ' East Los High', ' The Musketeers', ' The Musketeers', ' The Musketeers', ' The Path', ' East Los High', ' East Los High', ' East Los High', ' East Los High', ' East Los High', ' East Los High', ' East Los High', ' East Los High', ' The Musketeers', ' The Musketeers', ' The Musketeers', ' The Musketeers', ' The Musketeers', ' The Musketeers', ' Chivalry of a Failed Knight', ' Chivalry of a Failed Knight', ' Chivalry of a Failed Knight', ' Chivalry of a Failed Knight', ' Chivalry of a Failed Knight', ' The Path', ' Chivalry of a Failed Knight', ' Chivalry of a Failed Knight', ' Chivalry of a Failed Knight', ' RocketJump: The Show', ' Chivalry of a Failed Knight', ' The Path', ' The Path', ' Chivalry of a Failed Knight', ' RocketJump: The Show', ' RocketJump: The Show', ' The Path', ' Chivalry of a Failed Knight', ' East Los High', ' Chivalry of a Failed Knight', ' RocketJump: The Show', ' RocketJump: The Show', ' RocketJump: The Show', ' RocketJump: The Show', ' RocketJump: The Show', ' Difficult People', ' Sailor Moon Crystal', ' Sailor Moon Crystal', ' 11.22.63', ' 11.22.63', ' 11.22.63', ' 11.22.63', ' 11.22.63', ' 11.22.63', ' National Treasure', ' National Treasure', ' National Treasure', ' National Treasure', ' The Path', ' The Path', ' The Path', ' The Path', ' The Path', ' Sailor Moon Crystal', ' The Path', ' The Path', ' The Path', ' Freakish', ' Freakish', ' Freakish', \" The Handmaid's Tale\", \" The Handmaid's Tale\", \" The Handmaid's Tale\", \" The Handmaid's Tale\", \" The Handmaid's Tale\", \" The Handmaid's Tale\", \" The Handmaid's Tale\", \" The Handmaid's Tale\", \" The Handmaid's Tale\", \" The Handmaid's Tale\", ' Freakish', ' The Path', ' The Path', ' The Path', ' Freakish', \" Triumph's Election Watch 2016\", ' The Path', ' Freakish', ' Freakish', ' Freakish', ' Freakish', ' Freakish', ' The Path', ' The Path', ' The Path', ' The Path', ' The Path', ' The Path', ' Hard Sun', ' Hard Sun', ' Hard Sun', ' Hard Sun', ' The Looming Tower', ' Castle Rock', ' Comedy Invasian', ' Comedy Invasian', ' Comedy Invasian', ' The Path', ' The Path', ' The Path', ' The Path', ' The Path', ' The Path', ' The Path', ' The Path', ' The Path', ' The Path', ' The Path', ' The Path', ' The Path', ' Safe Harbour', ' Safe Harbour', ' Safe Harbour', ' Safe Harbour', ' The Looming Tower', ' The Looming Tower', \" The Handmaid's Tale\", ' The Looming Tower', ' The Looming Tower', ' The Looming Tower', ' The Looming Tower', ' The Looming Tower', ' The Looming Tower', ' Into the Dark', ' Freakish', ' Castle Rock', ' Castle Rock', ' Castle Rock', ' Castle Rock', ' Castle Rock', ' Castle Rock', ' Castle Rock', ' Castle Rock', ' Castle Rock', ' Hard Sun', ' Hard Sun', ' Freakish', ' UnREAL', ' National Treasure: Kiri', \" The Handmaid's Tale\", \" The Handmaid's Tale\", \" The Handmaid's Tale\", \" The Handmaid's Tale\", \" The Handmaid's Tale\", \" The Handmaid's Tale\", \" The Handmaid's Tale\", \" The Handmaid's Tale\", \" The Handmaid's Tale\", \" The Handmaid's Tale\", \" The Handmaid's Tale\", \" The Handmaid's Tale\", ' Freakish', ' Freakish', ' Freakish', ' Freakish', ' Freakish', ' Freakish', ' Freakish', ' Freakish', ' Zac and Mia', ' Zac and Mia', ' Zac and Mia', ' Find Me in Paris', ' Find Me in Paris', ' The Looming Tower', ' Find Me in Paris', ' Find Me in Paris', ' Find Me in Paris', ' Find Me in Paris', ' Find Me in Paris', ' Find Me in Paris', ' Find Me in Paris', ' Find Me in Paris', ' Find Me in Paris', ' Find Me in Paris', ' Find Me in Paris', ' Find Me in Paris', ' Find Me in Paris', ' Find Me in Paris', ' Find Me in Paris', ' Find Me in Paris', ' Find Me in Paris', ' Find Me in Paris', ' Find Me in Paris', ' Find Me in Paris', ' Find Me in Paris', ' Find Me in Paris', ' Find Me in Paris', ' Find Me in Paris', ' Zac and Mia', ' Zac and Mia', ' Zac and Mia', ' Zac and Mia', ' Zac and Mia', ' Zac and Mia', ' Zac and Mia', ' Zac and Mia', ' Zac and Mia', ' Zac and Mia', ' Animaniacs', ' Animaniacs', ' Cardcaptor Sakura: Clear Card Arc', ' Butterfly', \" The Handmaid's Tale\", ' Four Weddings and a Funeral', ' Four Weddings and a Funeral', ' Four Weddings and a Funeral', ' Four Weddings and a Funeral', ' Four Weddings and a Funeral', ' Four Weddings and a Funeral', ' Four Weddings and a Funeral', ' Four Weddings and a Funeral', ' Four Weddings and a Funeral', ' Four Weddings and a Funeral', ' Into the Dark', ' Butterfly', ' Butterfly', ' Comedy Invasian', ' Comedy Invasian', ' Comedy Invasian', ' Zac and Mia', ' Zac and Mia', ' Zac and Mia', ' Zac and Mia', ' Zac and Mia', ' Zac and Mia', ' Zac and Mia', ' Zac and Mia', ' Zac and Mia', ' Zac and Mia', ' Zac and Mia', ' Light as a Feather', ' Into the Dark', ' Light as a Feather', ' Light as a Feather', ' Light as a Feather', ' Light as a Feather', ' Light as a Feather', ' Light as a Feather', ' Light as a Feather', ' Light as a Feather', ' Light as a Feather', ' Into the Dark', ' Into the Dark', ' Shrill', ' Shrill', ' Shrill', ' Shrill', ' Shrill', ' Shrill', ' Into the Dark', ' Into the Dark', ' The Bisexual', ' The Bisexual', ' The Bisexual', ' The Bisexual', ' The Bisexual', ' The Bisexual', ' Into the Dark', ' Into the Dark', ' Into the Dark', ' Into the Dark', ' Into the Dark', \" The Handmaid's Tale\", \" The Handmaid's Tale\", \" The Handmaid's Tale\", ' The Act', \" The Handmaid's Tale\", \" The Handmaid's Tale\", ' Love Daily', \" The Handmaid's Tale\", \" The Handmaid's Tale\", \" The Handmaid's Tale\", \" The Handmaid's Tale\", ' Dollface', ' Dollface', ' Dollface', ' Dollface', ' Dollface', ' Dollface', ' Dollface', ' Dollface', ' Dollface', ' Dollface', ' Light as a Feather', ' Light as a Feather', ' Light as a Feather', ' Light as a Feather', ' Light as a Feather', ' Light as a Feather', ' Light as a Feather', ' Light as a Feather', ' Light as a Feather', ' Light as a Feather', ' Light as a Feather', ' Light as a Feather', ' Light as a Feather', ' Light as a Feather', ' Light as a Feather', ' Light as a Feather', \" The Handmaid's Tale\", \" The Handmaid's Tale\", \" The Handmaid's Tale\", ' Light as a Feather', ' Light as a Feather', ' Light as a Feather', ' Light as a Feather', \" The Handmaid's Tale\", \" The Handmaid's Tale\", \" The Handmaid's Tale\", ' Light as a Feather', ' Light as a Feather', ' Light as a Feather', ' Light as a Feather', \" The Handmaid's Tale\", \" The Handmaid's Tale\", \" The Handmaid's Tale\", ' Light as a Feather', ' Light as a Feather', ' Light as a Feather', ' Light as a Feather', \" The Handmaid's Tale\", \" The Handmaid's Tale\", \" The Handmaid's Tale\", ' Light as a Feather', ' Light as a Feather', ' Light as a Feather', ' Light as a Feather', \" The Handmaid's Tale\", \" The Handmaid's Tale\", \" The Handmaid's Tale\", ' Light as a Feather', ' Light as a Feather', ' Light as a Feather', ' Light as a Feather', \" The Handmaid's Tale\", \" The Handmaid's Tale\", \" The Handmaid's Tale\", ' Light as a Feather', ' Light as a Feather', ' Light as a Feather', ' Light as a Feather', \" The Handmaid's Tale\", \" The Handmaid's Tale\", \" The Handmaid's Tale\", ' Light as a Feather', ' Light as a Feather', ' Light as a Feather', ' Light as a Feather', \" The Handmaid's Tale\", \" The Handmaid's Tale\", \" The Handmaid's Tale\", ' Light as a Feather', ' Light as a Feather', ' Light as a Feather', ' Light as a Feather', \" The Handmaid's Tale\", \" The Handmaid's Tale\", \" The Handmaid's Tale\", ' Light as a Feather', ' Light as a Feather', ' Light as a Feather', ' Light as a Feather', \" The Handmaid's Tale\", \" The Handmaid's Tale\", \" The Handmaid's Tale\", ' Light as a Feather', ' Light as a Feather', ' Light as a Feather', ' Light as a Feather', \" The Handmaid's Tale\", \" The Handmaid's Tale\", \" The Handmaid's Tale\", ' Light as a Feather', ' Light as a Feather', ' Light as a Feather', ' Light as a Feather', \" The Handmaid's Tale\", \" The Handmaid's Tale\", \" The Handmaid's Tale\", ' Light as a Feather', ' Light as a Feather', ' Light as a Feather', ' Light as a Feather', \" The Handmaid's Tale\", \" The Handmaid's Tale\", \" The Handmaid's Tale\"], 'rating': ['8.5', '7.4', '8.5', '8.7', '7.8', '7.7', '8.6', '8.1', '8.1', '7.9', '7.7', '8', '7.3', '7.9', '8.7', '8.3', '7.6', '8', '8', '6.5', '6.3', '8.1', '7.8', '7.7', '7.3', '7', '8.2', '7.8', '7.9', '7.4', '7.7', '7.4', '6.3', 'NULL', '4.8', '8', '7.3', '7.5', '6.8', '8.3', '7.2', '8.1', '5.7', '7.6', '7.5', '5', '6.6', 'NULL', '7.8', '7.8', '4', '6.3', '7.3', '7.2', '6.9', '7.4', '7.3', '8', '8.2', '8.2', '7.5', '6.7', 'NULL', '6.7', '5.3', 'NULL', '7.3', 'NULL', '7.7', '7.8', '5.4', '7', 'NULL', '5.9', '7.7', '8.8', '6.9', '8.5', '8.1', '7.6', '6.2', '4.2', '7.7', '7.9', '7.3', '7', '6.6', '6.3', '7.5', '5.8', '7.4', '7.8', '6.3', 'NULL', '7.4', '6.6', '6.6', '5.9', '8.3', '5.5', '7.4', '6.7', '6.9', 'NULL', '6.6', '6.1', '7.1', '8.3', '6.9', '6.7', '5.8', '3.9', '2.5', '7.9', '6.1', '6.2', 'NULL', '7.8', '6.7', '6.3', '6.5', '6.7', '6.8', '4.7', '6.3', '7.7', '7.3', '7.5', '7', '7.1', 'NULL', '7', 'NULL', '4.1', '5.3', '6.5', '7.4', 'NULL', '6.6', '7.6', 'NULL', 'NULL', 'NULL', '6.8', '6.3', 'NULL', 'NULL', '6.6', '6.3', '4.8', '8', 'NULL', '7.7', '4.3', 'NULL', 'NULL', '7.6', '4.6', '5.9', '7.3', '7.1', '6', '7', '6.5', '6.6', '5.4', 'NULL', '5.8', 'NULL', '6.3', 'NULL', 'NULL', 'NULL', '6.6', '5.8', 'NULL', '6.7', '6.6', 'NULL', '4.5', '6.8', 'NULL', '4.8', '4.3', '7.7', '3.4', '3.5', '6.9', '4.4', 'NULL', '6.4', '6.5', '5.7', '7.4', 'NULL', '8', '5.7', '5.4', '7.8', '7.1', '5.3', '4.3', '2.2', '4.8', '4.9', '4.5', '6.1', '5.4', '7', '6.3', '4.5', '5.6', '7.4', 'NULL', '4.2', '7.7', '5.1', 'NULL', '7.7', '5.6', 'NULL', '5.6', '6', 'NULL', '6.9', '5.1', '8.1', '6.6', '5', '7.1', '4.3', '3.6', '4.3', '4.4', '4.2', '6.9', '6.5', '6.5', '3.3', '3.9', '6.4', '7.3', '6', '7.4', 'NULL', '6.6', 'NULL', '6.3', '3.4', '6.5', '5.8', '5.8', 'NULL', '6.6', '7', '5.2', '7.5', '7.1', '7.9', '5.5', '6.3', '5.8', 'NULL', '7.3', '8.9', 'NULL', '5.9', '3.5', 'NULL', '5.2', 'NULL', '7.8', 'NULL', '8.2', 'NULL', 'NULL', 'NULL', '6.8', '8.6', 'NULL', '7.2', '6.6', '6.5', 'NULL', '5.7', '6.9', 'NULL', '7.1', '7.3', 'NULL', '4.9', '7.3', '6.8', 'NULL', '5.2', 'NULL', '7.8', 'NULL', '8.1', 'NULL', 'NULL', '6.2', '8.1', '6.1', 'NULL', 'NULL', '6.7', '6.8', '4.5', '5.4', 'NULL', '6.5', '4.7', '5.1', 'NULL', 'NULL', '4.5', '7.5', 'NULL', 'NULL', 'NULL', '7.4', 'NULL', 'NULL', '6.8', '9', 'NULL', '7.3', '5.3', '4.2', 'NULL', 'NULL', '8', '5', '7.4', '8.1', '6.4', 'NULL', '5.7', '7.1', 'NULL', 'NULL', '6.8', 'NULL', '8.3', 'NULL', 'NULL', '6.2', 'NULL', '6.6', 'NULL', 'NULL', 'NULL', '7.8', '7.4', 'NULL', 'NULL', 'NULL', '8.1', 'NULL', 'NULL', 'NULL', 'NULL', 'NULL', 'NULL', 'NULL', '4.7', '9', 'NULL', 'NULL', 'NULL', '6.9', 'NULL', '5.3', 'NULL', 'NULL', 'NULL', 'NULL', '8', 'NULL', 'NULL', 'NULL', 'NULL', 'NULL', 'NULL', 'NULL', 'NULL', 'NULL', 'NULL', 'NULL', 'NULL', 'NULL', 'NULL', 'NULL', 'NULL', 'NULL', 'NULL', 'NULL', 'NULL', 'NULL', 'NULL', '8', 'NULL', 'NULL', 'NULL', '6.2', '7.5', '7.3', '7.8', 'NULL', 'NULL', '6.7', 'NULL', 'NULL', '6.2', '5.8', 'NULL', '7.1', 'NULL', '6.3', '7.2', '6.6', '8.2', 'NULL', 'NULL', '5.4', '6.7', '6.9', '7.2', 'NULL', '6.1', 'NULL', '7', 'NULL', 'NULL', '7.7', '6', 'NULL', '7', 'NULL', '6.7', '7.1', '7.4', '6.8', '6.5', '7.1', 'NULL', '7.8', 'NULL', 'NULL', '6.3', 'NULL', '6.8', '6.2', 'NULL', '6.6', '7.9', '6.8', '8.7', '7.9', '7', '7.6', '8.9', '7', '8.2', '7', '7.7', '8.5', '7.3', '7.4', '7.5', '7.6', '7.2', '7.8', '8.1', '7.7', '7.8', '7.9', '8.1', '8', '8.3', '7.9', '8.6', '8.3', 'NULL', 'NULL', 'NULL', '5.6', '5.7', '6.6', '6', '6.3', 'NULL', '6.6', 'NULL', 'NULL', 'NULL', 'NULL', 'NULL', 'NULL', 'NULL', 'NULL', 'NULL', 'NULL', 'NULL', 'NULL', '4.4', '5.3', 'NULL', '5.6', '5.4', '6.3', '6.1', 'NULL', 'NULL', 'NULL', 'NULL', 'NULL', 'NULL', 'NULL', 'NULL', 'NULL', 'NULL', 'NULL', 'NULL', 'NULL', 'NULL', 'NULL', 'NULL', 'NULL', 'NULL', 'NULL', 'NULL', 'NULL', 'NULL', 'NULL', 'NULL', 'NULL', 'NULL', 'NULL', 'NULL', 'NULL', 'NULL', 'NULL', 'NULL', 'NULL', 'NULL', 'NULL', '8', 'NULL', '7.6', '7.5', '8', 'NULL', 'NULL', 'NULL', 'NULL', 'NULL', 'NULL', 'NULL', 'NULL', 'NULL', 'NULL', '8.1', '8.6', '8.7', '9', '8.5', '8.7', '8.9', '8.8', '8.8', '9.1', 'NULL', '8.6', 'NULL', 'NULL', 'NULL', '7.2', 'NULL', 'NULL', '8.6', 'NULL', 'NULL', 'NULL', 'NULL', 'NULL', 'NULL', 'NULL', 'NULL', 'NULL', 'NULL', 'NULL', 'NULL', 'NULL', 'NULL', 'NULL', 'NULL', 'NULL', 'NULL', 'NULL', 'NULL', 'NULL', 'NULL', 'NULL', '7.4', '7.7', '7.6', 'NULL', 'NULL', 'NULL', 'NULL', 'NULL', 'NULL', 'NULL', 'NULL', 'NULL', 'NULL', 'NULL', 'NULL', 'NULL', 'NULL', 'NULL', 'NULL', 'NULL', 'NULL', 'NULL', 'NULL', 'NULL', 'NULL', 'NULL', 'NULL', 'NULL', 'NULL', 'NULL', 'NULL', 'NULL', 'NULL', 'NULL', 'NULL', 'NULL', 'NULL', 'NULL', 'NULL', 'NULL', 'NULL', 'NULL', 'NULL', 'NULL', 'NULL', 'NULL', 'NULL', 'NULL', 'NULL', 'NULL', 'NULL', 'NULL', 'NULL', 'NULL', 'NULL', 'NULL', 'NULL', 'NULL', 'NULL', 'NULL', 'NULL', 'NULL', 'NULL', 'NULL', 'NULL', 'NULL', 'NULL', 'NULL', 'NULL', 'NULL', 'NULL', 'NULL', 'NULL', 'NULL', 'NULL', 'NULL', 'NULL', 'NULL', 'NULL', 'NULL', 'NULL', 'NULL', 'NULL', 'NULL', 'NULL', 'NULL', 'NULL', 'NULL', 'NULL', 'NULL', 'NULL', 'NULL', 'NULL', 'NULL', 'NULL', 'NULL', 'NULL', 'NULL', 'NULL', 'NULL', 'NULL', 'NULL', 'NULL', 'NULL', 'NULL', 'NULL', 'NULL', 'NULL', 'NULL', 'NULL', 'NULL', 'NULL', 'NULL', 'NULL', 'NULL', 'NULL', 'NULL', 'NULL', 'NULL', 'NULL', 'NULL', 'NULL', 'NULL', 'NULL', 'NULL', 'NULL', 'NULL', 'NULL', 'NULL', 'NULL', 'NULL', 'NULL', 'NULL', 'NULL', 'NULL', 'NULL', 'NULL', 'NULL', 'NULL', 'NULL', 'NULL', 'NULL', 'NULL', 'NULL', 'NULL', 'NULL', 'NULL', 'NULL', 'NULL', 'NULL', 'NULL', 'NULL', 'NULL', 'NULL', 'NULL', 'NULL', 'NULL', 'NULL', 'NULL', 'NULL', 'NULL', 'NULL', 'NULL', 'NULL', 'NULL', 'NULL', 'NULL', 'NULL', 'NULL', 'NULL', 'NULL', 'NULL', 'NULL', 'NULL', 'NULL', 'NULL', 'NULL', '6.9', 'NULL', 'NULL', 'NULL', 'NULL', 'NULL', 'NULL', 'NULL', 'NULL', 'NULL', 'NULL', 'NULL', 'NULL', 'NULL', 'NULL', 'NULL', 'NULL', 'NULL', 'NULL', 'NULL', 'NULL', 'NULL', 'NULL', 'NULL', 'NULL', 'NULL', 'NULL', 'NULL', 'NULL', 'NULL', 'NULL', 'NULL', 'NULL', 'NULL', 'NULL', 'NULL', '8.5', 'NULL', 'NULL', 'NULL', 'NULL', 'NULL', 'NULL', 'NULL', 'NULL', 'NULL', '7.1', 'NULL', 'NULL', 'NULL', 'NULL', 'NULL', 'NULL', 'NULL', 'NULL', 'NULL', 'NULL', 'NULL', 'NULL', 'NULL', 'NULL', 'NULL', '7.9', 'NULL', 'NULL', 'NULL', 'NULL', 'NULL', '8.3', '8.2', '8.1', 'NULL', 'NULL', 'NULL', 'NULL', 'NULL', 'NULL', 'NULL', 'NULL', 'NULL', 'NULL', 'NULL', 'NULL', 'NULL', 'NULL', 'NULL', 'NULL', 'NULL', 'NULL', 'NULL', 'NULL', 'NULL', 'NULL', 'NULL', 'NULL', 'NULL', 'NULL', 'NULL', 'NULL', 'NULL', 'NULL', 'NULL', 'NULL', 'NULL', 'NULL', 'NULL', 'NULL', 'NULL', 'NULL', 'NULL', 'NULL', 'NULL', 'NULL', 'NULL', 'NULL', 'NULL', 'NULL', 'NULL', 'NULL', 'NULL', 'NULL', 'NULL', 'NULL', 'NULL', 'NULL', 'NULL', 'NULL', 'NULL', 'NULL', 'NULL', 'NULL', 'NULL', 'NULL', 'NULL', 'NULL', 'NULL', 'NULL', 'NULL', 'NULL', 'NULL', 'NULL', 'NULL', 'NULL', 'NULL', 'NULL', 'NULL', 'NULL', 'NULL', 'NULL', 'NULL', 'NULL', 'NULL', 'NULL', 'NULL', 'NULL', 'NULL', 'NULL', 'NULL', 'NULL', 'NULL', 'NULL', 'NULL', 'NULL', 'NULL', 'NULL', 'NULL', 'NULL', 'NULL', 'NULL', 'NULL', 'NULL', 'NULL', 'NULL', 'NULL', 'NULL', 'NULL', 'NULL', 'NULL', 'NULL', 'NULL', 'NULL', 'NULL', 'NULL', 'NULL', 'NULL', 'NULL', 'NULL', 'NULL', 'NULL', 'NULL', 'NULL', 'NULL', 'NULL', 'NULL', 'NULL', 'NULL', 'NULL', 'NULL', 'NULL', 'NULL', 'NULL', 'NULL', 'NULL', 'NULL', 'NULL', 'NULL', 'NULL', 'NULL', 'NULL', 'NULL', 'NULL', 'NULL', 'NULL', 'NULL', 'NULL', 'NULL', 'NULL', 'NULL', 'NULL', 'NULL', 'NULL', 'NULL', 'NULL', 'NULL', 'NULL', 'NULL', 'NULL', 'NULL', 'NULL', 'NULL', 'NULL', 'NULL', 'NULL', 'NULL', 'NULL', 'NULL', 'NULL', 'NULL', 'NULL', 'NULL', 'NULL', 'NULL', 'NULL', 'NULL', 'NULL', 'NULL', 'NULL', 'NULL', 'NULL', 'NULL', 'NULL', 'NULL', 'NULL', 'NULL', 'NULL', 'NULL', 'NULL', 'NULL', 'NULL', 'NULL', '7.5', 'NULL', 'NULL', 'NULL', 'NULL', 'NULL', 'NULL', 'NULL', 'NULL', 'NULL', 'NULL', 'NULL', '7.7', '7.8', 'NULL', '6.8', '4.8', 'NULL', 'NULL', 'NULL', 'NULL', 'NULL', 'NULL', 'NULL', 'NULL', 'NULL', 'NULL', 'NULL', 'NULL', 'NULL', 'NULL', 'NULL', 'NULL', '5.6', 'NULL', 'NULL', 'NULL', 'NULL', '7.2', 'NULL', 'NULL', 'NULL', '7.2', 'NULL', '8.3', 'NULL', 'NULL', 'NULL', 'NULL', 'NULL', 'NULL', 'NULL', 'NULL', 'NULL', 'NULL', 'NULL', 'NULL', 'NULL', 'NULL', 'NULL', '6.7', 'NULL', 'NULL', 'NULL', 'NULL', 'NULL', 'NULL', 'NULL', 'NULL', 'NULL', 'NULL', 'NULL', 'NULL', 'NULL', 'NULL', 'NULL', 'NULL', 'NULL', 'NULL', 'NULL', 'NULL', 'NULL', 'NULL', 'NULL', 'NULL', 'NULL', 'NULL', 'NULL', 'NULL', 'NULL', 'NULL', 'NULL', 'NULL', 'NULL', 'NULL', 'NULL', 'NULL', 'NULL', 'NULL', 'NULL', 'NULL', 'NULL', 'NULL', 'NULL', 'NULL', 'NULL', 'NULL', 'NULL', 'NULL', 'NULL', 'NULL', '7.9', '7.8', '8', '8.1', 'NULL', 'NULL', 'NULL', 'NULL', 'NULL', 'NULL', 'NULL', 'NULL', 'NULL', 'NULL', 'NULL', 'NULL', 'NULL', 'NULL', 'NULL', 'NULL', 'NULL', 'NULL', 'NULL', 'NULL', 'NULL', 'NULL', 'NULL', 'NULL', 'NULL', 'NULL', 'NULL', 'NULL', 'NULL', 'NULL', 'NULL', '7.4', 'NULL', 'NULL', 'NULL', 'NULL', 'NULL', 'NULL', 'NULL', 'NULL', 'NULL', 'NULL', 'NULL', 'NULL', 'NULL', 'NULL', 'NULL', 'NULL', 'NULL', 'NULL', 'NULL', 'NULL', 'NULL', 'NULL', 'NULL', 'NULL', 'NULL', 'NULL', 'NULL', 'NULL', 'NULL', '7.4', '7.4', '8.1', '7.7', '7.3', '7.2', '7.7', '7.6', 'NULL', 'NULL', 'NULL', 'NULL', 'NULL', 'NULL', 'NULL', 'NULL', 'NULL', 'NULL', 'NULL', 'NULL', 'NULL', 'NULL', 'NULL', 'NULL', 'NULL', 'NULL', 'NULL', 'NULL', 'NULL', 'NULL', 'NULL', 'NULL', 'NULL', 'NULL', 'NULL', 'NULL', 'NULL', 'NULL', 'NULL', 'NULL', 'NULL', 'NULL', 'NULL', 'NULL', 'NULL', 'NULL', 'NULL', 'NULL', 'NULL', 'NULL', 'NULL', 'NULL', 'NULL', 'NULL', 'NULL', 'NULL', 'NULL', 'NULL', 'NULL', 'NULL', 'NULL', 'NULL', 'NULL', 'NULL', 'NULL', 'NULL', '8.5', '8.4', '8.4', 'NULL', 'NULL', 'NULL', 'NULL', 'NULL', 'NULL', 'NULL', 'NULL', 'NULL', 'NULL', 'NULL', 'NULL', 'NULL', 'NULL', 'NULL', 'NULL', 'NULL', 'NULL', 'NULL', 'NULL', 'NULL', 'NULL', 'NULL', 'NULL', 'NULL', 'NULL', 'NULL', 'NULL', 'NULL', 'NULL', 'NULL', 'NULL', 'NULL', 'NULL', 'NULL', 'NULL', 'NULL', 'NULL', 'NULL', 'NULL', 'NULL', 'NULL', 'NULL', 'NULL', 'NULL', 'NULL', 'NULL', 'NULL', 'NULL', 'NULL', 'NULL', 'NULL', 'NULL', 'NULL', 'NULL', 'NULL', 'NULL', 'NULL', 'NULL', 'NULL', 'NULL', 'NULL', 'NULL', 'NULL', 'NULL', 'NULL', 'NULL', 'NULL', 'NULL', 'NULL', 'NULL', 'NULL', 'NULL', 'NULL', 'NULL', 'NULL', 'NULL', 'NULL', 'NULL', 'NULL', 'NULL', 'NULL', 'NULL', 'NULL', 'NULL', 'NULL', '5.9', '7.8', 'NULL', 'NULL', 'NULL', 'NULL', 'NULL', 'NULL', 'NULL', 'NULL', 'NULL', 'NULL', 'NULL', 'NULL', 'NULL', 'NULL', 'NULL', 'NULL', 'NULL', 'NULL', 'NULL', 'NULL', '6.1', '5.5', '7.6', 'NULL', 'NULL', 'NULL', '5', '7.9', 'NULL', 'NULL', 'NULL', 'NULL', 'NULL', 'NULL', 'NULL', 'NULL', 'NULL', 'NULL', 'NULL', 'NULL', 'NULL', 'NULL', 'NULL', 'NULL', 'NULL', 'NULL', 'NULL', 'NULL', 'NULL', 'NULL', 'NULL', 'NULL', 'NULL', 'NULL', 'NULL', '8', '8', 'NULL', '8', '8.8', '8.2', '8.5', '8.8', '7.4', '8.6', '8', '8.3', '7.6', '8.4', 'NULL', 'NULL', 'NULL', 'NULL', 'NULL', 'NULL', '7.9', '7.9', '7.9', '8.1', '8.2', '7.9', '8', '7.7', '8.5', '8.7', '8.3', '8.5', '7.6', '7.6', '7.6', '7.7', '7.8', '7.8', '7.7', '7.4', '8', '6.9', '7.2', '7.7', '7.5', '8.6', '8.1', '8.6', 'NULL', 'NULL', 'NULL', 'NULL', 'NULL', 'NULL', 'NULL', 'NULL', 'NULL', 'NULL', 'NULL', 'NULL', 'NULL', 'NULL', '8.1', '8', '8.9', '8', '7.8', '7.8', '7.7', '7.7', '7.8', '8.6', '7.6', '8.4', '7.8', '7.9', '8.6', '8.1', '7.8', '8.5', '7.7', '8.9', '8', '8.9', '7.7', '8.1', '8.5', '8.2', '7.8', '8', '8.3', '9', '8.7', '7', '8.2', '8', '7.9', '9.2', '6.5', '6.9', '8.5', '8.4', '8.3', '9.2', '6.8', '6.9', '6.1', '6.1', '7.9', '8.2', '8.3', '8.2', '8.6', '7.8', '8.2', '8.1', '8.1', '9.2', '7.5', '7.7', '7.5', '7.7', '7.9', '8', '8.2', '8.6', '8.3', '8.4', '7.6', '7.4', '7.6', '7.4', '7', '7.2', '8.3', '8.2', '8.7', '9.1', '8.2', '8.2', '8.8', '8', '8.1', '8.8', '7.6', '7.3', '7.8', '7.8', '6.7', '5.2', '8', '6.6', '7.2', '7.1', '7.7', '7.5', '7.6', '7.5', '7.6', '7.3', '7.9', '8.5', '7.5', '7.2', '7.4', '7.5', '7.9', '8.1', 'NULL', 'NULL', 'NULL', '7.6', '7.8', '7.6', '8', '7.9', '8', '7.9', '8.1', '8.1', '7.8', '7.8', '8.4', '7.9', '7.3', '7.1', '7.2', '6.8', '8', '8.1', '8.9', '7.7', '7.6', '7.8', '8.3', '8', '8', '6.3', '7.3', '8.1', '8', '8.4', '8', '8.2', '9.1', '8.4', '8.8', '7', '7.6', '7.6', '7.2', '7.6', '6.9', '8.3', '8.1', '8', '8.1', '8.9', '8.3', '8.8', '9', '9.1', '8.4', '8.4', '8.6', '7.3', '6.8', '7.1', '7.2', '7.2', '7.1', '7.6', '7.5', '7.9', '7.6', '8', '8.5', '9.5', '8.7', '9.3', '9.4', '9.1', '9.1', '8.9', '9.8', '9.3', '9.6', '9.3', '9.6', '9.3', '9.6', '9.4', '8.8', '9.4', '9.4', '9.1', '9.4', '9.5', '9.3', '9.3', '9.6', '9.5', '9.5', '7.6', '7.4', '7', '8.3', '8', '8', '8', '8.8', '9', '7.6', 'NULL', 'NULL', '7.4', '6.7', '8.4', '7.6', '7.4', '7.4', '8.1', '7.6', '7.4', '7.9', '8', '8.4', '8.7', '6.2', '7.3', '6.5', 'NULL', 'NULL', 'NULL', '8.2', 'NULL', 'NULL', 'NULL', 'NULL', 'NULL', 'NULL', 'NULL', 'NULL', 'NULL', 'NULL', '6.9', '6.1', '7.3', '7.1', '7.2', '7.5', '7.4', '7.4', '7.5', '7.5', '7.2', '5.4', '5.7', '7.4', '7.5', '7.6', '8.5', '7.4', '7.2', '6.5', '4.8', '5.9', '5.9', '5.8', '5.8', '5.6', '5.9', '5.7', '5.8', '5.7', '5.8', '5.9', '8.1', '7.8', '8.1', '8.5', '8.5', '8.2', 'NULL', '8.2', '7.2', '7.7', '6.1', '7.5', '7.7', '7.7', '7.8', '8.3', '8.1', '8.2', '7.9', '8.1', '8.1', '7.6', '7.8', '7.7', '7.9', '7.8', '7.8', '8', '8', '7.8', '7.8', '7.6', '8.3', '7.7', '7.7', '7.6', '7.6', '9.3', '8.2', '9.4', '7.7', '7.7', '7.6', '7.6', '9.3', '8.2', '9.4', '7.7', '7.7', '7.6', '7.6', '9.3', '8.2', '9.4', '7.7', '7.7', '7.6', '7.6', '9.3', '8.2', '9.4', '7.7', '7.7', '7.6', '7.6', '9.3', '8.2', '9.4', '7.7', '7.7', '7.6', '7.6', '9.3', '8.2', '9.4', '7.7', '7.7', '7.6', '7.6', '9.3', '8.2', '9.4', '7.7', '7.7', '7.6', '7.6', '9.3', '8.2', '9.4', '7.7', '7.7', '7.6', '7.6', '9.3', '8.2', '9.4', '7.7', '7.7', '7.6', '7.6', '9.3', '8.2', '9.4', '7.7', '7.7', '7.6', '7.6', '9.3', '8.2', '9.4', '7.7', '7.7', '7.6', '7.6', '9.3', '8.2', '9.4', '7.7', '7.7', '7.6', '7.6', '9.3', '8.2', '9.4']}\n"
     ]
    }
   ],
   "source": [
    "print(movie_dict)"
   ]
  },
  {
   "cell_type": "code",
   "execution_count": 16,
   "metadata": {},
   "outputs": [
    {
     "data": {
      "text/html": [
       "<div>\n",
       "<style scoped>\n",
       "    .dataframe tbody tr th:only-of-type {\n",
       "        vertical-align: middle;\n",
       "    }\n",
       "\n",
       "    .dataframe tbody tr th {\n",
       "        vertical-align: top;\n",
       "    }\n",
       "\n",
       "    .dataframe thead th {\n",
       "        text-align: right;\n",
       "    }\n",
       "</style>\n",
       "<table border=\"1\" class=\"dataframe\">\n",
       "  <thead>\n",
       "    <tr style=\"text-align: right;\">\n",
       "      <th></th>\n",
       "      <th>title</th>\n",
       "      <th>rating</th>\n",
       "    </tr>\n",
       "  </thead>\n",
       "  <tbody>\n",
       "    <tr>\n",
       "      <th>0</th>\n",
       "      <td>Community</td>\n",
       "      <td>8.5</td>\n",
       "    </tr>\n",
       "    <tr>\n",
       "      <th>1</th>\n",
       "      <td>Palm Springs</td>\n",
       "      <td>7.4</td>\n",
       "    </tr>\n",
       "    <tr>\n",
       "      <th>2</th>\n",
       "      <td>The Handmaid's Tale</td>\n",
       "      <td>8.5</td>\n",
       "    </tr>\n",
       "    <tr>\n",
       "      <th>3</th>\n",
       "      <td>Line of Duty</td>\n",
       "      <td>8.7</td>\n",
       "    </tr>\n",
       "    <tr>\n",
       "      <th>4</th>\n",
       "      <td>Little Fires Everywhere</td>\n",
       "      <td>7.8</td>\n",
       "    </tr>\n",
       "    <tr>\n",
       "      <th>...</th>\n",
       "      <td>...</td>\n",
       "      <td>...</td>\n",
       "    </tr>\n",
       "    <tr>\n",
       "      <th>1886</th>\n",
       "      <td>Light as a Feather</td>\n",
       "      <td>7.6</td>\n",
       "    </tr>\n",
       "    <tr>\n",
       "      <th>1887</th>\n",
       "      <td>Light as a Feather</td>\n",
       "      <td>7.6</td>\n",
       "    </tr>\n",
       "    <tr>\n",
       "      <th>1888</th>\n",
       "      <td>The Handmaid's Tale</td>\n",
       "      <td>9.3</td>\n",
       "    </tr>\n",
       "    <tr>\n",
       "      <th>1889</th>\n",
       "      <td>The Handmaid's Tale</td>\n",
       "      <td>8.2</td>\n",
       "    </tr>\n",
       "    <tr>\n",
       "      <th>1890</th>\n",
       "      <td>The Handmaid's Tale</td>\n",
       "      <td>9.4</td>\n",
       "    </tr>\n",
       "  </tbody>\n",
       "</table>\n",
       "<p>1891 rows × 2 columns</p>\n",
       "</div>"
      ],
      "text/plain": [
       "                        title rating\n",
       "0                   Community    8.5\n",
       "1                Palm Springs    7.4\n",
       "2         The Handmaid's Tale    8.5\n",
       "3                Line of Duty    8.7\n",
       "4     Little Fires Everywhere    7.8\n",
       "...                       ...    ...\n",
       "1886       Light as a Feather    7.6\n",
       "1887       Light as a Feather    7.6\n",
       "1888      The Handmaid's Tale    9.3\n",
       "1889      The Handmaid's Tale    8.2\n",
       "1890      The Handmaid's Tale    9.4\n",
       "\n",
       "[1891 rows x 2 columns]"
      ]
     },
     "execution_count": 16,
     "metadata": {},
     "output_type": "execute_result"
    }
   ],
   "source": [
    "import pandas as pd\n",
    "pd.DataFrame(movie_dict)"
   ]
  },
  {
   "cell_type": "code",
   "execution_count": null,
   "metadata": {},
   "outputs": [],
   "source": []
  },
  {
   "cell_type": "code",
   "execution_count": null,
   "metadata": {},
   "outputs": [],
   "source": []
  }
 ],
 "metadata": {
  "kernelspec": {
   "display_name": "Python 3",
   "language": "python",
   "name": "python3"
  },
  "language_info": {
   "codemirror_mode": {
    "name": "ipython",
    "version": 3
   },
   "file_extension": ".py",
   "mimetype": "text/x-python",
   "name": "python",
   "nbconvert_exporter": "python",
   "pygments_lexer": "ipython3",
   "version": "3.7.6"
  }
 },
 "nbformat": 4,
 "nbformat_minor": 4
}
